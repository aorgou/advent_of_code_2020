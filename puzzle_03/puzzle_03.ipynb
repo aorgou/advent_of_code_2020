{
 "cells": [
  {
   "cell_type": "code",
   "execution_count": 1,
   "metadata": {
    "ExecuteTime": {
     "end_time": "2020-12-04T00:10:04.199693Z",
     "start_time": "2020-12-04T00:10:04.182376Z"
    }
   },
   "outputs": [
    {
     "name": "stdout",
     "output_type": "stream",
     "text": [
      "323 31\n"
     ]
    }
   ],
   "source": [
    "with open('input.txt', \"r\") as file:\n",
    "    data = file.read().splitlines()\n",
    "    \n",
    "    \n",
    "print(len(data), len(data[0]))"
   ]
  },
  {
   "cell_type": "markdown",
   "metadata": {},
   "source": [
    "# Part 1"
   ]
  },
  {
   "cell_type": "code",
   "execution_count": 2,
   "metadata": {
    "ExecuteTime": {
     "end_time": "2020-12-04T00:10:04.313519Z",
     "start_time": "2020-12-04T00:10:04.204477Z"
    }
   },
   "outputs": [
    {
     "name": "stdout",
     "output_type": "stream",
     "text": [
      "284\n"
     ]
    }
   ],
   "source": [
    "n_trees = 0\n",
    "\n",
    "for y, line in enumerate(data):\n",
    "    if line[3*y%len(line)] == '#':\n",
    "        n_trees += 1\n",
    "\n",
    "print(n_trees)"
   ]
  },
  {
   "cell_type": "markdown",
   "metadata": {},
   "source": [
    "# Part 2"
   ]
  },
  {
   "cell_type": "code",
   "execution_count": 3,
   "metadata": {
    "ExecuteTime": {
     "end_time": "2020-12-04T00:10:04.488110Z",
     "start_time": "2020-12-04T00:10:04.320682Z"
    }
   },
   "outputs": [
    {
     "data": {
      "text/plain": [
       "284"
      ]
     },
     "execution_count": 3,
     "metadata": {},
     "output_type": "execute_result"
    }
   ],
   "source": [
    "def count_trees(cy, cx, data):\n",
    "    m = len(data[0])\n",
    "    n_trees = 0\n",
    "    \n",
    "    for i, line in enumerate(data):\n",
    "        if i%cy != 0:\n",
    "            continue\n",
    "        x = cx*i//cy%m\n",
    "        if line[x] == '#':\n",
    "            n_trees += 1\n",
    "\n",
    "    return n_trees\n",
    "\n",
    "count_trees(1, 3, data)"
   ]
  },
  {
   "cell_type": "code",
   "execution_count": 4,
   "metadata": {
    "ExecuteTime": {
     "end_time": "2020-12-04T00:10:04.534722Z",
     "start_time": "2020-12-04T00:10:04.495962Z"
    }
   },
   "outputs": [
    {
     "name": "stdout",
     "output_type": "stream",
     "text": [
      "3510149120\n"
     ]
    }
   ],
   "source": [
    "slopes = [\n",
    "    (1,1),\n",
    "    (1,3),\n",
    "    (1,5),\n",
    "    (1,7),\n",
    "    (2,1),\n",
    "]\n",
    "m_slopes = 1\n",
    "\n",
    "for cy, cx in slopes:\n",
    "    n_trees = count_trees(cy, cx, data)\n",
    "    m_slopes *= n_trees\n",
    "\n",
    "print(m_slopes)"
   ]
  }
 ],
 "metadata": {
  "kernelspec": {
   "display_name": "Python 3",
   "language": "python",
   "name": "python3"
  },
  "language_info": {
   "codemirror_mode": {
    "name": "ipython",
    "version": 3
   },
   "file_extension": ".py",
   "mimetype": "text/x-python",
   "name": "python",
   "nbconvert_exporter": "python",
   "pygments_lexer": "ipython3",
   "version": "3.7.4"
  },
  "toc": {
   "base_numbering": 1,
   "nav_menu": {},
   "number_sections": true,
   "sideBar": true,
   "skip_h1_title": false,
   "title_cell": "Table of Contents",
   "title_sidebar": "Contents",
   "toc_cell": false,
   "toc_position": {},
   "toc_section_display": true,
   "toc_window_display": false
  }
 },
 "nbformat": 4,
 "nbformat_minor": 2
}
