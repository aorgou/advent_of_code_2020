{
 "cells": [
  {
   "cell_type": "code",
   "execution_count": 1,
   "metadata": {
    "ExecuteTime": {
     "end_time": "2020-12-22T15:24:14.145321Z",
     "start_time": "2020-12-22T15:24:14.133518Z"
    },
    "scrolled": true
   },
   "outputs": [
    {
     "name": "stdout",
     "output_type": "stream",
     "text": [
      "161\n"
     ]
    }
   ],
   "source": [
    "with open('input.txt', \"r\") as file:\n",
    "    data = file.read().strip()\n",
    "\n",
    "print(len(data))"
   ]
  },
  {
   "cell_type": "markdown",
   "metadata": {},
   "source": [
    "# Part 1"
   ]
  },
  {
   "cell_type": "code",
   "execution_count": 2,
   "metadata": {
    "ExecuteTime": {
     "end_time": "2020-12-22T15:24:14.240649Z",
     "start_time": "2020-12-22T15:24:14.158165Z"
    }
   },
   "outputs": [
    {
     "name": "stdout",
     "output_type": "stream",
     "text": [
      "32489\n"
     ]
    }
   ],
   "source": [
    "def play_game(deck_p1, deck_p2):\n",
    "    while deck_p1 and deck_p2:\n",
    "        card_p1, card_p2 = deck_p1.pop(0), deck_p2.pop(0)\n",
    "        if card_p1 > card_p2:\n",
    "            deck_p1 += [card_p1, card_p2]\n",
    "        else:\n",
    "            deck_p2 += [card_p2, card_p1]\n",
    "    return deck_p1, deck_p2\n",
    "\n",
    "\n",
    "deck_p1, deck_p2 = map(lambda x: [int(t) for t in x.splitlines()[1:]], data.split('\\n\\n'))\n",
    "\n",
    "deck_p1, deck_p2 = play_game(deck_p1, deck_p2)\n",
    "score = sum([card * (i + 1) for i, card in enumerate(reversed(deck_p1 + deck_p2))])\n",
    "\n",
    "print(score)"
   ]
  },
  {
   "cell_type": "markdown",
   "metadata": {},
   "source": [
    "# Part 2"
   ]
  },
  {
   "cell_type": "code",
   "execution_count": 3,
   "metadata": {
    "ExecuteTime": {
     "end_time": "2020-12-22T15:24:16.248679Z",
     "start_time": "2020-12-22T15:24:14.242300Z"
    }
   },
   "outputs": [
    {
     "name": "stdout",
     "output_type": "stream",
     "text": [
      "35676\n"
     ]
    }
   ],
   "source": [
    "def play_game(deck_p1, deck_p2):\n",
    "    res = None\n",
    "    game_prev_states = set()\n",
    "\n",
    "    while deck_p1 and deck_p2:\n",
    "        state = tuple(deck_p1), tuple(deck_p2)\n",
    "        if state in game_prev_states:\n",
    "            deck_p1, deck_p2 = deck_p1 + deck_p2, []\n",
    "            break\n",
    "        else:\n",
    "            game_prev_states.add(state)\n",
    "\n",
    "        card_p1, card_p2 = deck_p1.pop(0), deck_p2.pop(0)\n",
    "        round_winner = 1 if card_p1 > card_p2 else 2\n",
    "        if card_p1 <= len(deck_p1) and card_p2 <= len(deck_p2):\n",
    "            deck_p1_res, deck_p2_res = play_game(deck_p1[:card_p1], deck_p2[:card_p2])\n",
    "            round_winner = 1 if deck_p1_res else 2\n",
    "        if round_winner == 1:\n",
    "            deck_p1 += [card_p1, card_p2]\n",
    "        else:\n",
    "            deck_p2 += [card_p2, card_p1]\n",
    "    \n",
    "    res = deck_p1, deck_p2\n",
    "    return res\n",
    "\n",
    "deck_p1, deck_p2 = map(lambda x: [int(t) for t in x.splitlines()[1:]], data.split('\\n\\n'))\n",
    "\n",
    "deck_p1, deck_p2 = play_game(deck_p1, deck_p2)\n",
    "score = sum([card * (i + 1) for i, card in enumerate(reversed(deck_p1 + deck_p2))])\n",
    "\n",
    "print(score)"
   ]
  }
 ],
 "metadata": {
  "kernelspec": {
   "display_name": "Python 3",
   "language": "python",
   "name": "python3"
  },
  "language_info": {
   "codemirror_mode": {
    "name": "ipython",
    "version": 3
   },
   "file_extension": ".py",
   "mimetype": "text/x-python",
   "name": "python",
   "nbconvert_exporter": "python",
   "pygments_lexer": "ipython3",
   "version": "3.7.4"
  },
  "toc": {
   "base_numbering": 1,
   "nav_menu": {},
   "number_sections": true,
   "sideBar": true,
   "skip_h1_title": false,
   "title_cell": "Table of Contents",
   "title_sidebar": "Contents",
   "toc_cell": false,
   "toc_position": {},
   "toc_section_display": true,
   "toc_window_display": false
  }
 },
 "nbformat": 4,
 "nbformat_minor": 2
}
