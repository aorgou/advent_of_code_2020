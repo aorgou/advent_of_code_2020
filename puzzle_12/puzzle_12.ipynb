{
 "cells": [
  {
   "cell_type": "code",
   "execution_count": 1,
   "metadata": {
    "ExecuteTime": {
     "end_time": "2020-12-14T19:46:45.455076Z",
     "start_time": "2020-12-14T19:46:45.444074Z"
    }
   },
   "outputs": [
    {
     "name": "stdout",
     "output_type": "stream",
     "text": [
      "R180\n",
      "S4\n",
      "L90\n",
      "S2\n"
     ]
    }
   ],
   "source": [
    "with open('input.txt', \"r\") as file:\n",
    "    data = file.read().splitlines()\n",
    "\n",
    "print('\\n'.join(data[0:4]))"
   ]
  },
  {
   "cell_type": "code",
   "execution_count": 2,
   "metadata": {
    "ExecuteTime": {
     "end_time": "2020-12-14T19:46:45.530328Z",
     "start_time": "2020-12-14T19:46:45.458656Z"
    }
   },
   "outputs": [],
   "source": [
    "test_0 = '''F10\n",
    "N3\n",
    "F7\n",
    "R90\n",
    "F11'''.splitlines()"
   ]
  },
  {
   "cell_type": "markdown",
   "metadata": {},
   "source": [
    "# Part 1"
   ]
  },
  {
   "cell_type": "code",
   "execution_count": 3,
   "metadata": {
    "ExecuteTime": {
     "end_time": "2020-12-14T19:46:45.604932Z",
     "start_time": "2020-12-14T19:46:45.532290Z"
    },
    "code_folding": [
     0
    ]
   },
   "outputs": [
    {
     "name": "stdout",
     "output_type": "stream",
     "text": [
      "1589\n"
     ]
    }
   ],
   "source": [
    "def compute_distance(commands, ship):\n",
    "    for command in commands:\n",
    "        action, argument = command[:1], int(command[1:])\n",
    "        ship.execute_command(action, argument)\n",
    "\n",
    "    state = ship.report()\n",
    "    distance = sum(list(map(abs, state['location'])))\n",
    "    return distance\n",
    "\n",
    "class Ship:\n",
    "    \"\"\"\n",
    "    \"\"\"\n",
    "\n",
    "    _actn2dirs = {\n",
    "        'N': 1j, 'E': 1, 'S': -1j, 'W': -1,\n",
    "    }\n",
    "\n",
    "    def __init__(self, location_x = 0, location_y = 0, \n",
    "                 head_x = 0, head_y = 1):\n",
    "        self.location = location_y + location_x * 1j\n",
    "        self.head = head_y + head_x * 1j\n",
    "\n",
    "    def report(self):\n",
    "        return {\n",
    "            'location': (int(self.location.real),\n",
    "                         int(self.location.imag)),\n",
    "            'head': (int(self.head.real),\n",
    "                     int(self.head.imag))\n",
    "        }\n",
    "\n",
    "    def _move(self, dc, steps):\n",
    "        self.location += dc * steps\n",
    "\n",
    "    def _turn(self, dt):\n",
    "        self.head *= dt\n",
    "\n",
    "    def execute_command(self, action, argument):\n",
    "        if action == 'F':\n",
    "            self._move(self.head, argument)\n",
    "        elif action == 'R':\n",
    "            self._turn((-1j)**(argument//90))\n",
    "        elif action == 'L':\n",
    "            self._turn((1j)**(argument//90))\n",
    "        elif action in 'NESW':\n",
    "            self._move(self._actn2dirs[action], argument)\n",
    "\n",
    "assert(compute_distance(test_0, Ship()) == 25)\n",
    "print(compute_distance(data, Ship()))"
   ]
  },
  {
   "cell_type": "markdown",
   "metadata": {},
   "source": [
    "# Part 2"
   ]
  },
  {
   "cell_type": "code",
   "execution_count": 4,
   "metadata": {
    "ExecuteTime": {
     "end_time": "2020-12-14T19:46:45.711378Z",
     "start_time": "2020-12-14T19:46:45.608244Z"
    },
    "code_folding": [
     0
    ]
   },
   "outputs": [
    {
     "name": "stdout",
     "output_type": "stream",
     "text": [
      "23960\n"
     ]
    }
   ],
   "source": [
    "class ShipWP(Ship):\n",
    "    \"\"\"\n",
    "    Ship's class head is waypoint here\n",
    "    \"\"\"\n",
    "    def __init__(self, location_x = 0, location_y = 0, \n",
    "                 head_x = 1, head_y = 10):\n",
    "        Ship.__init__(self, location_x = location_x, location_y = location_y,\n",
    "                      head_x = head_x, head_y = head_y)\n",
    "\n",
    "    def _move_head(self, dw):\n",
    "        self.head += dw\n",
    "\n",
    "    def execute_command(self, action, argument):\n",
    "        if action == 'F':\n",
    "            self._move(self.head, argument)\n",
    "        elif action == 'R':\n",
    "            self._turn((-1j)**(argument//90))\n",
    "        elif action == 'L':\n",
    "            self._turn((1j)**(argument//90))\n",
    "        elif action in 'NESW':\n",
    "            self._move_head(self._actn2dirs[action] * argument)\n",
    "\n",
    "\n",
    "assert(compute_distance(test_0, ShipWP()) == 286)\n",
    "print(compute_distance(data, ShipWP()))"
   ]
  }
 ],
 "metadata": {
  "kernelspec": {
   "display_name": "Python 3",
   "language": "python",
   "name": "python3"
  },
  "language_info": {
   "codemirror_mode": {
    "name": "ipython",
    "version": 3
   },
   "file_extension": ".py",
   "mimetype": "text/x-python",
   "name": "python",
   "nbconvert_exporter": "python",
   "pygments_lexer": "ipython3",
   "version": "3.7.4"
  },
  "toc": {
   "base_numbering": 1,
   "nav_menu": {},
   "number_sections": true,
   "sideBar": true,
   "skip_h1_title": false,
   "title_cell": "Table of Contents",
   "title_sidebar": "Contents",
   "toc_cell": false,
   "toc_position": {},
   "toc_section_display": true,
   "toc_window_display": false
  }
 },
 "nbformat": 4,
 "nbformat_minor": 2
}
