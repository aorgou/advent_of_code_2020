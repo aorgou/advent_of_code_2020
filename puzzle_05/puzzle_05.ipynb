{
 "cells": [
  {
   "cell_type": "code",
   "execution_count": 1,
   "metadata": {
    "ExecuteTime": {
     "end_time": "2020-12-05T15:04:55.948740Z",
     "start_time": "2020-12-05T15:04:55.930752Z"
    }
   },
   "outputs": [
    {
     "name": "stdout",
     "output_type": "stream",
     "text": [
      "FFBFFFBLLL\n"
     ]
    }
   ],
   "source": [
    "with open('input.txt', \"r\") as file:\n",
    "    data = file.read().splitlines()\n",
    "    \n",
    "    \n",
    "print(data[0])"
   ]
  },
  {
   "cell_type": "markdown",
   "metadata": {},
   "source": [
    "# Part 1"
   ]
  },
  {
   "cell_type": "code",
   "execution_count": 2,
   "metadata": {
    "ExecuteTime": {
     "end_time": "2020-12-05T15:04:56.031909Z",
     "start_time": "2020-12-05T15:04:55.961611Z"
    },
    "code_folding": [
     0,
     16
    ]
   },
   "outputs": [
    {
     "name": "stdout",
     "output_type": "stream",
     "text": [
      "880\n"
     ]
    }
   ],
   "source": [
    "def bin_search(seq):\n",
    "    res = None\n",
    "\n",
    "    a, b = 0, 2**len(seq)-1\n",
    "    for s in seq:\n",
    "        p = (a + b) // 2\n",
    "        q = p + 1\n",
    "        if s == 1:\n",
    "            a = q\n",
    "        elif s == 0:\n",
    "            b = p\n",
    "    if a == b:\n",
    "        res = a\n",
    "\n",
    "    return res \n",
    "\n",
    "def parse_row(full_seq):\n",
    "    r_seq = [1 if x == 'B' else 0 for x in full_seq[:-3]]\n",
    "    return bin_search(r_seq)\n",
    "\n",
    "def parse_col(full_seq):\n",
    "    c_seq = [1 if x == 'R' else 0 for x in full_seq[-3:]]\n",
    "    return bin_search(c_seq)\n",
    "\n",
    "\n",
    "max_id = -1\n",
    "for full_seq in data:\n",
    "    row, col = parse_row(full_seq), parse_col(full_seq)\n",
    "    seat_id = row*8 + col\n",
    "    if seat_id > max_id:\n",
    "        max_id = seat_id\n",
    "\n",
    "\n",
    "print(max_id)"
   ]
  },
  {
   "cell_type": "markdown",
   "metadata": {},
   "source": [
    "# Part 2"
   ]
  },
  {
   "cell_type": "code",
   "execution_count": 3,
   "metadata": {
    "ExecuteTime": {
     "end_time": "2020-12-05T15:04:56.110255Z",
     "start_time": "2020-12-05T15:04:56.033857Z"
    }
   },
   "outputs": [
    {
     "name": "stdout",
     "output_type": "stream",
     "text": [
      "731\n"
     ]
    }
   ],
   "source": [
    "seats = []\n",
    "for full_seq in data:\n",
    "    row, col = parse_row(full_seq), parse_col(full_seq)\n",
    "    seat_id = row*8 + col\n",
    "    seats.append(seat_id)\n",
    "seats = sorted(seats)\n",
    "\n",
    "\n",
    "res = None\n",
    "for i, seat_id in enumerate(seats):\n",
    "    if 0 < i < len(seats) - 1:\n",
    "        if seat_id + 2 == seats[i+1]:\n",
    "            res = seat_id + 1\n",
    "\n",
    "\n",
    "print(res)"
   ]
  }
 ],
 "metadata": {
  "kernelspec": {
   "display_name": "Python 3",
   "language": "python",
   "name": "python3"
  },
  "language_info": {
   "codemirror_mode": {
    "name": "ipython",
    "version": 3
   },
   "file_extension": ".py",
   "mimetype": "text/x-python",
   "name": "python",
   "nbconvert_exporter": "python",
   "pygments_lexer": "ipython3",
   "version": "3.7.4"
  },
  "toc": {
   "base_numbering": 1,
   "nav_menu": {},
   "number_sections": true,
   "sideBar": true,
   "skip_h1_title": false,
   "title_cell": "Table of Contents",
   "title_sidebar": "Contents",
   "toc_cell": false,
   "toc_position": {},
   "toc_section_display": true,
   "toc_window_display": false
  }
 },
 "nbformat": 4,
 "nbformat_minor": 2
}
