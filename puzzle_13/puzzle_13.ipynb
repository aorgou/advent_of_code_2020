{
 "cells": [
  {
   "cell_type": "code",
   "execution_count": 1,
   "metadata": {
    "ExecuteTime": {
     "end_time": "2020-12-13T21:47:01.116040Z",
     "start_time": "2020-12-13T21:47:01.100271Z"
    }
   },
   "outputs": [
    {
     "name": "stdout",
     "output_type": "stream",
     "text": [
      "['1008713', '13,x,x,41,x,x,x,x,x,x,x,x,x,467,x,x,x,x,x,x,x,x,x,x,x,19,x,x,x,x,17,x,x,x,x,x,x,x,x,x,x,x,29,x,353,x,x,x,x,x,37,x,x,x,x,x,x,x,x,x,x,x,x,x,x,x,x,23']\n"
     ]
    }
   ],
   "source": [
    "with open('input.txt', \"r\") as file:\n",
    "    data = file.read().splitlines()\n",
    "\n",
    "print(data)"
   ]
  },
  {
   "cell_type": "markdown",
   "metadata": {},
   "source": [
    "# Part 1"
   ]
  },
  {
   "cell_type": "code",
   "execution_count": 2,
   "metadata": {
    "ExecuteTime": {
     "end_time": "2020-12-13T21:47:01.210555Z",
     "start_time": "2020-12-13T21:47:01.119857Z"
    }
   },
   "outputs": [
    {
     "name": "stdout",
     "output_type": "stream",
     "text": [
      "467 7 3269\n"
     ]
    }
   ],
   "source": [
    "earliest = int(data[0])\n",
    "earliest_bus = float('+inf')\n",
    "earliest_bus_id = None\n",
    "\n",
    "buses = [int(b) for b in data[1].split(',') if b != 'x']\n",
    "\n",
    "for b in buses:\n",
    "    first_bus = abs(-earliest%b)\n",
    "    if earliest_bus > first_bus:\n",
    "        earliest_bus = first_bus\n",
    "        earliest_bus_id = b\n",
    "\n",
    "print (earliest_bus_id, earliest_bus, earliest_bus_id*earliest_bus)"
   ]
  },
  {
   "cell_type": "code",
   "execution_count": 3,
   "metadata": {
    "ExecuteTime": {
     "end_time": "2020-12-13T21:47:01.289209Z",
     "start_time": "2020-12-13T21:47:01.213651Z"
    }
   },
   "outputs": [
    {
     "name": "stdout",
     "output_type": "stream",
     "text": [
      "13 is prime\n",
      "41 is prime\n",
      "467 is prime\n",
      "19 is prime\n",
      "17 is prime\n",
      "29 is prime\n",
      "353 is prime\n",
      "37 is prime\n",
      "23 is prime\n"
     ]
    }
   ],
   "source": [
    "def is_prime(n):\n",
    "    res = True\n",
    "    for d in range(2, int(n**0.5)):\n",
    "        if n % d == 0:\n",
    "            res = False\n",
    "            break\n",
    "    return res\n",
    "\n",
    "\n",
    "buses = [(i, int(b)) for i, b in enumerate(data[1].split(',')) if b != 'x']\n",
    "time, step = 0, 1\n",
    "\n",
    "for r, m in buses:\n",
    "    if is_prime(m):\n",
    "        print(\"{mod} is prime\".format(mod = m))\n",
    "    else:\n",
    "        print(\"{mod} is not prime\".format(mod = m))"
   ]
  },
  {
   "cell_type": "markdown",
   "metadata": {},
   "source": [
    "# Part 2"
   ]
  },
  {
   "cell_type": "code",
   "execution_count": 4,
   "metadata": {
    "ExecuteTime": {
     "end_time": "2020-12-13T21:47:01.430272Z",
     "start_time": "2020-12-13T21:47:01.290784Z"
    },
    "code_folding": [
     0,
     5,
     8,
     16
    ]
   },
   "outputs": [
    {
     "name": "stdout",
     "output_type": "stream",
     "text": [
      "x % 13 = 0\n",
      "x % 41 = 3\n",
      "x % 467 = 13\n",
      "x % 19 = 25\n",
      "x % 17 = 30\n",
      "x % 29 = 42\n",
      "x % 353 = 44\n",
      "x % 37 = 50\n",
      "x % 23 = 67\n",
      "x = 672754131923874\n"
     ]
    }
   ],
   "source": [
    "# as every mod is prime, can solve subsequenly\n",
    "\n",
    "def inverse(a, m):\n",
    "    res = pow(a, m-2, m)\n",
    "    return res\n",
    "\n",
    "\n",
    "for r, m in buses:\n",
    "    print(\"x % {mod} = {rem}\".format(mod = m, rem = r))\n",
    "\n",
    "for r, m in buses:\n",
    "    \"\"\"\n",
    "    instead of cycle\n",
    "\n",
    "    while time % m != -r % m:\n",
    "        time += step\n",
    "\n",
    "    solve directly:\n",
    "    # time + x*step = -r                  |  % m\n",
    "    # x*step = -r - time                  |  % m\n",
    "    # x = (-r - time) * inverse(step, m)  |  % m\n",
    "    \"\"\"\n",
    "\n",
    "    n_steps = (-r - time) * inverse(step, m) % m\n",
    "    time += n_steps * step\n",
    "    step = step * m\n",
    "\n",
    "print(\"x = {res}\".format(res = time))"
   ]
  },
  {
   "cell_type": "code",
   "execution_count": 5,
   "metadata": {
    "ExecuteTime": {
     "end_time": "2020-12-13T21:47:01.510183Z",
     "start_time": "2020-12-13T21:47:01.436735Z"
    }
   },
   "outputs": [
    {
     "name": "stdout",
     "output_type": "stream",
     "text": [
      "672754131923874\n"
     ]
    }
   ],
   "source": [
    "# or using CRT, as every mod is prime\n",
    "\n",
    "from functools import reduce\n",
    "\n",
    "mods = [m for _, m in buses]\n",
    "rems = [-r for r, _ in buses]\n",
    "\n",
    "M = reduce(lambda p, q: p * q, [m for m in mods])\n",
    "\n",
    "M_dev = [M // m for m in mods]\n",
    "M_inv = [inverse(Mi, m) for Mi, m in zip(M_dev, mods)]\n",
    "\n",
    "res = sum([M * Mi * r for M, Mi, r in zip(M_dev, M_inv, rems)]) % M\n",
    "\n",
    "print(res)"
   ]
  }
 ],
 "metadata": {
  "kernelspec": {
   "display_name": "Python 3",
   "language": "python",
   "name": "python3"
  },
  "language_info": {
   "codemirror_mode": {
    "name": "ipython",
    "version": 3
   },
   "file_extension": ".py",
   "mimetype": "text/x-python",
   "name": "python",
   "nbconvert_exporter": "python",
   "pygments_lexer": "ipython3",
   "version": "3.7.4"
  },
  "toc": {
   "base_numbering": 1,
   "nav_menu": {},
   "number_sections": true,
   "sideBar": true,
   "skip_h1_title": false,
   "title_cell": "Table of Contents",
   "title_sidebar": "Contents",
   "toc_cell": false,
   "toc_position": {},
   "toc_section_display": true,
   "toc_window_display": false
  }
 },
 "nbformat": 4,
 "nbformat_minor": 2
}
