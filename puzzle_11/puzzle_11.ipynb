{
 "cells": [
  {
   "cell_type": "code",
   "execution_count": 1,
   "metadata": {
    "ExecuteTime": {
     "end_time": "2020-12-11T23:01:15.090055Z",
     "start_time": "2020-12-11T23:01:15.074394Z"
    },
    "scrolled": true
   },
   "outputs": [
    {
     "name": "stdout",
     "output_type": "stream",
     "text": [
      "LLLLL.L.LLLLLLL.LL.LLLLL.LLLLLLL..LLLLL.LLLLL.L..LLLLL..LLLLLLLL.LLLL.LLL.LLLLLLL.LLLLLLLLLL\n",
      "LLLLLLL.LLLLL..LLLLLLLLLLLLLLLLL.LLLLLLLLLLLLLLLLLLLLL.LLLLLL.LL.LLLLLLLLL.LLLLLL.LLLLLLLLLL\n",
      "LLLL.LLLLLLLL.LLLLLLLLL.LLLLLLLL.LLLLLLLLLLLLLLL.LLLLL.LLLLLLLLL.LLLLLLLLL.LLLLLL.LLLL.LLLLL\n",
      "LLLLLL.LLLLLLLLLLLLLLLL.LLLLLL.LLLLLLLL.L.LLL.LLLLLLLL.LLLLLL.LLLLLLLLLLLL.LLLLLL.LLLL.LLLLL\n"
     ]
    }
   ],
   "source": [
    "with open('input.txt', \"r\") as file:\n",
    "    data = file.read().splitlines()\n",
    "\n",
    "print('\\n'.join(data[0:4]))"
   ]
  },
  {
   "cell_type": "code",
   "execution_count": 2,
   "metadata": {
    "ExecuteTime": {
     "end_time": "2020-12-11T23:01:15.177070Z",
     "start_time": "2020-12-11T23:01:15.093126Z"
    }
   },
   "outputs": [],
   "source": [
    "test_0 = '''\n",
    "L.LL.LL.LL\n",
    "LLLLLLL.LL\n",
    "L.L.L..L..\n",
    "LLLL.LL.LL\n",
    "L.LL.LL.LL\n",
    "L.LLLLL.LL\n",
    "..L.L.....\n",
    "LLLLLLLLLL\n",
    "L.LLLLLL.L\n",
    "L.LLLLL.LL\n",
    "'''.strip().splitlines()"
   ]
  },
  {
   "cell_type": "code",
   "execution_count": 3,
   "metadata": {
    "ExecuteTime": {
     "end_time": "2020-12-11T23:01:15.243455Z",
     "start_time": "2020-12-11T23:01:15.178558Z"
    }
   },
   "outputs": [],
   "source": [
    "test_1 = '''\n",
    ".......#.\n",
    "...#.....\n",
    ".#.......\n",
    ".........\n",
    "..#L....#\n",
    "....#....\n",
    ".........\n",
    "#........\n",
    "...#.....\n",
    "'''.strip().splitlines()"
   ]
  },
  {
   "cell_type": "code",
   "execution_count": 4,
   "metadata": {
    "ExecuteTime": {
     "end_time": "2020-12-11T23:01:15.370371Z",
     "start_time": "2020-12-11T23:01:15.245001Z"
    }
   },
   "outputs": [],
   "source": [
    "test_2 = '''\n",
    ".............\n",
    ".L.L.#.#.#.#.\n",
    ".............\n",
    "'''.strip().splitlines()"
   ]
  },
  {
   "cell_type": "code",
   "execution_count": 5,
   "metadata": {
    "ExecuteTime": {
     "end_time": "2020-12-11T23:01:15.443388Z",
     "start_time": "2020-12-11T23:01:15.376532Z"
    }
   },
   "outputs": [],
   "source": [
    "test_3 = \"\"\"\n",
    ".##.##.\n",
    "#.#.#.#\n",
    "##...##\n",
    "...L...\n",
    "##...##\n",
    "#.#.#.#\n",
    ".##.##.\n",
    "\"\"\".strip().splitlines()"
   ]
  },
  {
   "cell_type": "code",
   "execution_count": 6,
   "metadata": {
    "ExecuteTime": {
     "end_time": "2020-12-11T23:01:15.532742Z",
     "start_time": "2020-12-11T23:01:15.444918Z"
    }
   },
   "outputs": [],
   "source": [
    "from itertools import product"
   ]
  },
  {
   "cell_type": "markdown",
   "metadata": {},
   "source": [
    "# Part 1"
   ]
  },
  {
   "cell_type": "code",
   "execution_count": 7,
   "metadata": {
    "ExecuteTime": {
     "end_time": "2020-12-11T23:01:15.604555Z",
     "start_time": "2020-12-11T23:01:15.536065Z"
    },
    "code_folding": [
     13,
     36
    ]
   },
   "outputs": [],
   "source": [
    "def count_neighbs(y, x, state):\n",
    "    H = len(state)\n",
    "    W = len(state[0])\n",
    "    neighbs = 0\n",
    "    directions = [-1, 0, 1]\n",
    "    for dy, dx in product(directions, repeat=2):\n",
    "        if dx == dy == 0:\n",
    "            continue\n",
    "        elif ((0 <= x+dx < W and 0 <= y+dy < H)\n",
    "            and state[y+dy][x+dx] == '#'):\n",
    "            neighbs += 1\n",
    "    return neighbs\n",
    "\n",
    "def gen_next_state(state):\n",
    "    H = len(state)\n",
    "    W = len(state[0])\n",
    "    neighbourhoods = [[0 for i in range(W)] for line in range(H)]\n",
    "\n",
    "    for y in range(H):\n",
    "        for x in range(W):\n",
    "            if state[y][x] == '.':\n",
    "                neighbourhoods[y][x] = -1\n",
    "            else:\n",
    "                neighbourhoods[y][x] = count_neighbs(y, x, state)\n",
    "\n",
    "    next_state = [[s for s in line] for line in state]\n",
    "    for y in range(H):\n",
    "        for x in range(W):\n",
    "            if state[y][x] == 'L' and neighbourhoods[y][x] == 0:\n",
    "                next_state[y][x] = '#'\n",
    "            elif state[y][x] == '#' and neighbourhoods[y][x] >= 4:\n",
    "                next_state[y][x] = 'L'\n",
    "\n",
    "    next_state = [''.join(line) for line in next_state]\n",
    "    return next_state\n",
    "\n",
    "def count_occupied(state):\n",
    "    while(True):\n",
    "        next_state = gen_next_state(state)\n",
    "        if str(state) == str(next_state):\n",
    "            break\n",
    "        state = next_state\n",
    "\n",
    "    res = len(''.join(list(map(lambda x: x.replace('.', '').replace('L', ''), state))))\n",
    "    return res\n"
   ]
  },
  {
   "cell_type": "code",
   "execution_count": 8,
   "metadata": {
    "ExecuteTime": {
     "end_time": "2020-12-11T23:01:18.042226Z",
     "start_time": "2020-12-11T23:01:15.609550Z"
    },
    "code_folding": []
   },
   "outputs": [
    {
     "name": "stdout",
     "output_type": "stream",
     "text": [
      "2126\n"
     ]
    }
   ],
   "source": [
    "state_0 = data[:]\n",
    "\n",
    "assert(count_occupied(test_0) == 37)\n",
    "\n",
    "print(count_occupied(state_0))"
   ]
  },
  {
   "cell_type": "markdown",
   "metadata": {},
   "source": [
    "# Part 2"
   ]
  },
  {
   "cell_type": "code",
   "execution_count": 9,
   "metadata": {
    "ExecuteTime": {
     "end_time": "2020-12-11T23:01:18.058326Z",
     "start_time": "2020-12-11T23:01:18.044427Z"
    },
    "code_folding": [
     0,
     16,
     36
    ]
   },
   "outputs": [],
   "source": [
    "def count_neighbs_directive(y, x, state):\n",
    "    H = len(state)\n",
    "    W = len(state[0])\n",
    "    neighbs = 0\n",
    "    directions = [-1, 0, 1]\n",
    "    for dy, dx in product(directions, repeat=2):\n",
    "        if dx == dy == 0:\n",
    "            continue\n",
    "        xp, yp = x+dx, y+dy\n",
    "        while (0 <= xp < W and 0 <= yp < H and state[yp][xp] == '.'):\n",
    "            xp, yp = xp+dx, yp+dy\n",
    "        if ((0 <= xp < W and 0 <= yp < H)\n",
    "            and state[yp][xp] == '#'):\n",
    "            neighbs += 1\n",
    "    return neighbs\n",
    "\n",
    "def gen_next_state_directive(state):\n",
    "    H = len(state)\n",
    "    W = len(state[0])\n",
    "    neighbourhoods = [[0 for i in range(W)] for line in range(H)]\n",
    "\n",
    "    for y in range(H):\n",
    "        for x in range(W):\n",
    "            neighbourhoods[y][x] = count_neighbs_directive(y, x, state)\n",
    "\n",
    "    next_state = [[s for s in line] for line in state]\n",
    "    for y in range(H):\n",
    "        for x in range(W):\n",
    "            if state[y][x] == 'L' and neighbourhoods[y][x] == 0:\n",
    "                next_state[y][x] = '#'\n",
    "            elif state[y][x] == '#' and neighbourhoods[y][x] >= 5:\n",
    "                next_state[y][x] = 'L'\n",
    "\n",
    "    next_state = [''.join(line) for line in next_state]\n",
    "    return next_state\n",
    "\n",
    "def directive_count_occupied(state_0):\n",
    "    state = state_0[:]\n",
    "    while(True):\n",
    "        next_state = gen_next_state_directive(state)\n",
    "        if str(state) == str(next_state):\n",
    "            break\n",
    "        state = next_state\n",
    "\n",
    "    res = len(''.join(list(map(lambda x: x.replace('.', '').replace('L', ''), state))))\n",
    "    return res\n"
   ]
  },
  {
   "cell_type": "code",
   "execution_count": 10,
   "metadata": {
    "ExecuteTime": {
     "end_time": "2020-12-11T23:01:21.219818Z",
     "start_time": "2020-12-11T23:01:18.061949Z"
    }
   },
   "outputs": [
    {
     "name": "stdout",
     "output_type": "stream",
     "text": [
      "1914\n"
     ]
    }
   ],
   "source": [
    "assert(count_neighbs_directive(4, 3, test_1) == 8)\n",
    "assert(count_neighbs_directive(1, 1, test_2) == 0)\n",
    "assert(count_neighbs_directive(3, 3, test_3) == 0)\n",
    "assert(directive_count_occupied(test_0) == 26)\n",
    "\n",
    "print(directive_count_occupied(state_0))"
   ]
  }
 ],
 "metadata": {
  "kernelspec": {
   "display_name": "Python 3",
   "language": "python",
   "name": "python3"
  },
  "language_info": {
   "codemirror_mode": {
    "name": "ipython",
    "version": 3
   },
   "file_extension": ".py",
   "mimetype": "text/x-python",
   "name": "python",
   "nbconvert_exporter": "python",
   "pygments_lexer": "ipython3",
   "version": "3.7.4"
  },
  "toc": {
   "base_numbering": 1,
   "nav_menu": {},
   "number_sections": true,
   "sideBar": true,
   "skip_h1_title": false,
   "title_cell": "Table of Contents",
   "title_sidebar": "Contents",
   "toc_cell": false,
   "toc_position": {},
   "toc_section_display": true,
   "toc_window_display": false
  }
 },
 "nbformat": 4,
 "nbformat_minor": 2
}
