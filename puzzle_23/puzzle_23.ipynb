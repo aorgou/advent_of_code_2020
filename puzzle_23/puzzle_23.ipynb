{
 "cells": [
  {
   "cell_type": "code",
   "execution_count": 1,
   "metadata": {
    "ExecuteTime": {
     "end_time": "2020-12-23T14:08:35.762497Z",
     "start_time": "2020-12-23T14:08:35.751925Z"
    }
   },
   "outputs": [],
   "source": [
    "data = '467528193'"
   ]
  },
  {
   "cell_type": "markdown",
   "metadata": {},
   "source": [
    "# Part 1"
   ]
  },
  {
   "cell_type": "code",
   "execution_count": 2,
   "metadata": {
    "ExecuteTime": {
     "end_time": "2020-12-23T14:08:35.848041Z",
     "start_time": "2020-12-23T14:08:35.767126Z"
    }
   },
   "outputs": [
    {
     "name": "stdout",
     "output_type": "stream",
     "text": [
      "143769582\n"
     ]
    }
   ],
   "source": [
    "def solve(d, selected, steps):\n",
    "    '''\n",
    "    cups - cycled linked list\n",
    "    list d :\n",
    "        list[i] = j ~ element i points to element j\n",
    "    '''\n",
    "    L = len(d)\n",
    "    for step in range(steps):\n",
    "        pick_up = []\n",
    "        cur = selected\n",
    "        for i in range(3):\n",
    "            picked = d[cur]\n",
    "            pick_up.append(picked)\n",
    "            cur = picked\n",
    "\n",
    "        destination = (selected - 1) % L\n",
    "        while destination in pick_up:\n",
    "            destination = (destination - 1) % L\n",
    "\n",
    "        d[selected] = d[pick_up[-1]]\n",
    "        d[pick_up[-1]] = d[destination]\n",
    "        d[destination] = pick_up[0]\n",
    "        selected = d[selected]\n",
    "    return d\n",
    "\n",
    "def gen_origin(data):\n",
    "    cups = [int(s)-1 for s in data]\n",
    "    L = len(cups)\n",
    "    d = [None for i in range(L)]\n",
    "    for i in range(L):\n",
    "        d[cups[i % L]] = cups[(i + 1) % L]\n",
    "    return d\n",
    "\n",
    "\n",
    "d = gen_origin(data)\n",
    "d = solve(d, int(data[0]) - 1, 100)\n",
    "\n",
    "t = 0\n",
    "seq = ''\n",
    "for i in range(len(d)):\n",
    "    seq += str(t+1)\n",
    "    t = d[t]\n",
    "\n",
    "print(seq)"
   ]
  },
  {
   "cell_type": "markdown",
   "metadata": {},
   "source": [
    "# Part 2"
   ]
  },
  {
   "cell_type": "code",
   "execution_count": 3,
   "metadata": {
    "ExecuteTime": {
     "end_time": "2020-12-23T14:08:46.237211Z",
     "start_time": "2020-12-23T14:08:35.849997Z"
    }
   },
   "outputs": [
    {
     "name": "stdout",
     "output_type": "stream",
     "text": [
      "489710 540509 264692662390\n"
     ]
    }
   ],
   "source": [
    "def gen_origin_extended(data, N):\n",
    "    cups = [int(s)-1 for s in data]\n",
    "    L = len(cups)\n",
    "    d = [None for i in range(N)]\n",
    "    for i in range(L - 1):\n",
    "        d[cups[i]] = cups[i + 1]\n",
    "    d[cups[-1]] = L\n",
    "\n",
    "    for i in range(L, N - 1):\n",
    "        d[i] = (i + 1)\n",
    "    d[N - 1] = cups[0]\n",
    "\n",
    "    return d\n",
    "\n",
    "\n",
    "N = 1_000_000\n",
    "d = gen_origin_extended(data, N)\n",
    "d = solve(d, int(data[0]) - 1, 10_000_000)\n",
    "\n",
    "cup_a = d[0]\n",
    "cup_b = d[cup_a]\n",
    "\n",
    "a, b = cup_a + 1, cup_b + 1\n",
    "\n",
    "print(a, b, a * b)"
   ]
  }
 ],
 "metadata": {
  "kernelspec": {
   "display_name": "Python 3",
   "language": "python",
   "name": "python3"
  },
  "language_info": {
   "codemirror_mode": {
    "name": "ipython",
    "version": 3
   },
   "file_extension": ".py",
   "mimetype": "text/x-python",
   "name": "python",
   "nbconvert_exporter": "python",
   "pygments_lexer": "ipython3",
   "version": "3.7.4"
  },
  "toc": {
   "base_numbering": 1,
   "nav_menu": {},
   "number_sections": true,
   "sideBar": true,
   "skip_h1_title": false,
   "title_cell": "Table of Contents",
   "title_sidebar": "Contents",
   "toc_cell": false,
   "toc_position": {},
   "toc_section_display": true,
   "toc_window_display": false
  }
 },
 "nbformat": 4,
 "nbformat_minor": 2
}
