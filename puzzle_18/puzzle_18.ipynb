{
 "cells": [
  {
   "cell_type": "code",
   "execution_count": 1,
   "metadata": {
    "ExecuteTime": {
     "end_time": "2020-12-18T11:06:26.638727Z",
     "start_time": "2020-12-18T11:06:26.625218Z"
    }
   },
   "outputs": [
    {
     "name": "stdout",
     "output_type": "stream",
     "text": [
      "(8 * 4 + 6 + (7 + 3 * 9 + 4 * 3) + 2 + 2) * 3 * 8 * 2 * 9 * (5 * 5 * 2 * 6)\n"
     ]
    }
   ],
   "source": [
    "with open('input.txt', \"r\") as file:\n",
    "    data = file.read().splitlines()\n",
    "\n",
    "print(data[0])"
   ]
  },
  {
   "cell_type": "code",
   "execution_count": 2,
   "metadata": {
    "ExecuteTime": {
     "end_time": "2020-12-18T11:06:26.750783Z",
     "start_time": "2020-12-18T11:06:26.642619Z"
    }
   },
   "outputs": [],
   "source": [
    "test_0 = '''1 + 2 * 3 + 4 * 5 + 6''' # 71\n",
    "test_1 = '''2 * 3 + (4 * 5)''' # becomes 26.\n",
    "test_2 = '''5 + (8 * 3 + 9 + 3 * 4 * 3)''' # becomes 437.\n",
    "test_3 = '''5 * 9 * (7 * 3 * 3 + 9 * 3 + (8 + 6 * 4))''' # becomes 12240.\n",
    "test_4 = '''((2 + 4 * 9) * (6 + 9 * 8 + 6) + 6) + 2 + 4 * 2''' # becomes 13632."
   ]
  },
  {
   "cell_type": "markdown",
   "metadata": {},
   "source": [
    "# Part 1"
   ]
  },
  {
   "cell_type": "code",
   "execution_count": 3,
   "metadata": {
    "ExecuteTime": {
     "end_time": "2020-12-18T11:06:26.834755Z",
     "start_time": "2020-12-18T11:06:26.754183Z"
    }
   },
   "outputs": [],
   "source": [
    "def format_to_RPN(infix, precedences):\n",
    "    stack = []\n",
    "    out_q = []\n",
    "    \n",
    "    for x in infix.replace('(', '( ').replace(')', ' )').split(' '):\n",
    "        if x not in '+*()':\n",
    "            out_q.append(int(x))\n",
    "        elif x == '(':\n",
    "            stack.append(x)\n",
    "        elif x == ')':\n",
    "            while True:\n",
    "                s_el = stack.pop()\n",
    "                if s_el == '(':\n",
    "                    #s_el = None\n",
    "                    break\n",
    "                out_q.append(s_el)\n",
    "        elif x in '+*':\n",
    "            while stack and precedences[stack[-1]] >= precedences[x]:\n",
    "                out_q.append(stack.pop())\n",
    "            stack.append(x)\n",
    "    while stack:\n",
    "        out_q.append(stack.pop())\n",
    "    return out_q\n",
    "\n",
    "\n",
    "F = {\n",
    "    '+': lambda x, y: x + y,\n",
    "    '*': lambda x, y: x * y,\n",
    "}\n",
    "\n",
    "def compute_RPN(queue):\n",
    "    stack = []\n",
    "    for el in queue:\n",
    "        if str(el) in '+*':\n",
    "            arg_1, arg_2 = stack.pop(), stack.pop()\n",
    "            f = F[el]\n",
    "            res = f(arg_1, arg_2)\n",
    "            stack.append(res)\n",
    "        else:\n",
    "            stack.append(el)\n",
    "    return stack[0]\n"
   ]
  },
  {
   "cell_type": "code",
   "execution_count": 4,
   "metadata": {
    "ExecuteTime": {
     "end_time": "2020-12-18T11:06:26.915320Z",
     "start_time": "2020-12-18T11:06:26.841318Z"
    }
   },
   "outputs": [
    {
     "name": "stdout",
     "output_type": "stream",
     "text": [
      "13976444272545\n"
     ]
    }
   ],
   "source": [
    "precedences = {'(': 0, '+': 1, '*': 1}\n",
    "\n",
    "assert(compute_RPN(format_to_RPN(test_0, precedences)) == 71)\n",
    "assert(compute_RPN(format_to_RPN(test_1, precedences)) == 26)\n",
    "assert(compute_RPN(format_to_RPN(test_2, precedences)) == 437)\n",
    "assert(compute_RPN(format_to_RPN(test_3, precedences)) == 12240)\n",
    "assert(compute_RPN(format_to_RPN(test_4, precedences)) == 13632)\n",
    "\n",
    "res = 0\n",
    "for line in data:\n",
    "    res += compute_RPN(format_to_RPN(line, precedences))\n",
    "print(res)"
   ]
  },
  {
   "cell_type": "code",
   "execution_count": 5,
   "metadata": {
    "ExecuteTime": {
     "end_time": "2020-12-18T11:06:27.044552Z",
     "start_time": "2020-12-18T11:06:26.918390Z"
    }
   },
   "outputs": [
    {
     "name": "stdout",
     "output_type": "stream",
     "text": [
      "88500956630893\n"
     ]
    }
   ],
   "source": [
    "precedences = {'(': 0, '+': 2, '*': 1}\n",
    "\n",
    "assert(compute_RPN(format_to_RPN(test_0, precedences)) == 231)\n",
    "assert(compute_RPN(format_to_RPN(test_1, precedences)) == 46)\n",
    "assert(compute_RPN(format_to_RPN(test_2, precedences)) == 1445)\n",
    "assert(compute_RPN(format_to_RPN(test_3, precedences)) == 669060)\n",
    "assert(compute_RPN(format_to_RPN(test_4, precedences)) == 23340)\n",
    "\n",
    "res = 0\n",
    "for line in data:\n",
    "    res += compute_RPN(format_to_RPN(line, precedences))\n",
    "print(res)"
   ]
  },
  {
   "cell_type": "code",
   "execution_count": null,
   "metadata": {},
   "outputs": [],
   "source": []
  }
 ],
 "metadata": {
  "kernelspec": {
   "display_name": "Python 3",
   "language": "python",
   "name": "python3"
  },
  "language_info": {
   "codemirror_mode": {
    "name": "ipython",
    "version": 3
   },
   "file_extension": ".py",
   "mimetype": "text/x-python",
   "name": "python",
   "nbconvert_exporter": "python",
   "pygments_lexer": "ipython3",
   "version": "3.7.4"
  },
  "toc": {
   "base_numbering": 1,
   "nav_menu": {},
   "number_sections": true,
   "sideBar": true,
   "skip_h1_title": false,
   "title_cell": "Table of Contents",
   "title_sidebar": "Contents",
   "toc_cell": false,
   "toc_position": {},
   "toc_section_display": true,
   "toc_window_display": false
  }
 },
 "nbformat": 4,
 "nbformat_minor": 2
}
