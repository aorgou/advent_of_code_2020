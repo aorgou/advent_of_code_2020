{
 "cells": [
  {
   "cell_type": "code",
   "execution_count": 1,
   "metadata": {
    "ExecuteTime": {
     "end_time": "2020-12-06T20:30:42.438498Z",
     "start_time": "2020-12-06T20:30:42.432584Z"
    }
   },
   "outputs": [
    {
     "name": "stdout",
     "output_type": "stream",
     "text": [
      "f\n",
      "v\n",
      "ki\n"
     ]
    }
   ],
   "source": [
    "with open('input.txt', \"r\") as file:\n",
    "    data = file.read()\n",
    "    \n",
    "    \n",
    "print(data.split('\\n\\n')[0])"
   ]
  },
  {
   "cell_type": "markdown",
   "metadata": {
    "ExecuteTime": {
     "end_time": "2020-12-06T09:03:17.892405Z",
     "start_time": "2020-12-06T09:03:17.890148Z"
    }
   },
   "source": [
    "# Part 1"
   ]
  },
  {
   "cell_type": "code",
   "execution_count": 2,
   "metadata": {
    "ExecuteTime": {
     "end_time": "2020-12-06T20:30:42.533363Z",
     "start_time": "2020-12-06T20:30:42.443392Z"
    }
   },
   "outputs": [
    {
     "name": "stdout",
     "output_type": "stream",
     "text": [
      "6387\n"
     ]
    }
   ],
   "source": [
    "n_total = 0\n",
    "\n",
    "for group_answers in data.split('\\n\\n'):\n",
    "    group_answers = set([x for x in group_answers if x != '\\n'])\n",
    "    n_total += len(group_answers)\n",
    "\n",
    "print(n_total)"
   ]
  },
  {
   "cell_type": "code",
   "execution_count": 3,
   "metadata": {
    "ExecuteTime": {
     "end_time": "2020-12-06T20:30:42.610888Z",
     "start_time": "2020-12-06T20:30:42.535586Z"
    }
   },
   "outputs": [
    {
     "name": "stdout",
     "output_type": "stream",
     "text": [
      "6387\n"
     ]
    }
   ],
   "source": [
    "# one-liner\n",
    "\n",
    "print(sum([len(set([x for x in group_answers if x != '\\n'])) for group_answers in data.split('\\n\\n')]))"
   ]
  },
  {
   "cell_type": "markdown",
   "metadata": {},
   "source": [
    "# Part 2"
   ]
  },
  {
   "cell_type": "code",
   "execution_count": 4,
   "metadata": {
    "ExecuteTime": {
     "end_time": "2020-12-06T20:30:42.677784Z",
     "start_time": "2020-12-06T20:30:42.619012Z"
    }
   },
   "outputs": [
    {
     "name": "stdout",
     "output_type": "stream",
     "text": [
      "3039\n"
     ]
    }
   ],
   "source": [
    "n_total = 0\n",
    "\n",
    "for group in data.split('\\n\\n'):\n",
    "    persons_answers = group.splitlines()\n",
    "    common_answers = persons_answers[0]\n",
    "    for person_answers in persons_answers[1:]:\n",
    "        common_answers = [a for a in common_answers if a in person_answers]\n",
    "        if not common_answers:\n",
    "            break\n",
    "    n_total += len(common_answers)\n",
    "    \n",
    "\n",
    "print(n_total)"
   ]
  }
 ],
 "metadata": {
  "kernelspec": {
   "display_name": "Python 3",
   "language": "python",
   "name": "python3"
  },
  "language_info": {
   "codemirror_mode": {
    "name": "ipython",
    "version": 3
   },
   "file_extension": ".py",
   "mimetype": "text/x-python",
   "name": "python",
   "nbconvert_exporter": "python",
   "pygments_lexer": "ipython3",
   "version": "3.7.4"
  },
  "toc": {
   "base_numbering": 1,
   "nav_menu": {},
   "number_sections": true,
   "sideBar": true,
   "skip_h1_title": false,
   "title_cell": "Table of Contents",
   "title_sidebar": "Contents",
   "toc_cell": false,
   "toc_position": {},
   "toc_section_display": true,
   "toc_window_display": false
  }
 },
 "nbformat": 4,
 "nbformat_minor": 2
}
