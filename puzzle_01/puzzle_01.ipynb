{
 "cells": [
  {
   "cell_type": "code",
   "execution_count": 1,
   "metadata": {
    "ExecuteTime": {
     "end_time": "2020-12-01T13:44:13.073891Z",
     "start_time": "2020-12-01T13:44:13.069244Z"
    }
   },
   "outputs": [
    {
     "name": "stdout",
     "output_type": "stream",
     "text": [
      "[1650, 1174, 1156, 1874, 1958, 1918, 1980, 1588, 1863, 1656, 1843, 1738, 2001, 1883, 1941, 1602, 1881, 1927, 1284, 1474, 1942, 1992, 1925, 1990, 1831, 1907, 1914, 1815, 1921, 1589, 1224, 1148, 1223, 935, 1726, 1828, 1838, 1611, 1960, 1668, 1744, 1566, 1902, 1203, 1975, 1225, 2000, 1678, 1950, 572, 1812, 1568, 1484, 1767, 1509, 1658, 1127, 1870, 1098, 1294, 1310, 1483, 1865, 1967, 1856, 1963, 1929, 1119, 132, 1969, 1094, 1523, 1701, 1896, 1631, 1956, 1910, 1672, 1232, 1285, 1761, 1649, 1931, 1959, 1191, 1846, 1908, 1976, 1500, 1940, 1924, 1521, 1989, 1635, 1102, 1114, 1948, 2007, 1964, 1926, 1590, 1900, 1690, 1880, 1596, 1395, 1373, 1937, 1833, 1845, 1949, 1128, 1218, 1928, 1912, 1893, 1869, 960, 1813, 1645, 1490, 1318, 1934, 1259, 2005, 1522, 1270, 1089, 1674, 1997, 1112, 1954, 1769, 1829, 1814, 1922, 1904, 1894, 1595, 1103, 237, 1943, 1364, 1906, 1971, 1998, 1461, 1606, 1911, 1545, 1952, 1917, 1582, 1994, 1946, 1935, 1844, 1938, 1633, 2004, 1132, 1530, 1915, 1982, 1871, 1852, 1613, 1476, 1216, 1834, 1939, 409, 1895, 1120, 1194, 1135, 1899, 1901, 1439, 485, 1855, 1136, 200, 1887, 250, 1930, 1506, 1945, 1988, 1170, 1575, 1872, 1261, 1137, 1978, 1537, 1897, 1837, 1753, 1913]\n"
     ]
    }
   ],
   "source": [
    "with open('input.txt', \"r\") as file_object:\n",
    "    data = list(map(int, file_object.read().split()))\n",
    "    \n",
    "    \n",
    "print(data)"
   ]
  },
  {
   "cell_type": "markdown",
   "metadata": {},
   "source": [
    "# Part 1"
   ]
  },
  {
   "cell_type": "code",
   "execution_count": 2,
   "metadata": {
    "ExecuteTime": {
     "end_time": "2020-12-01T13:47:40.815918Z",
     "start_time": "2020-12-01T13:47:40.796850Z"
    }
   },
   "outputs": [
    {
     "name": "stdout",
     "output_type": "stream",
     "text": [
      "658899\n"
     ]
    }
   ],
   "source": [
    "def find_two_addendums(data, target_sum):\n",
    "    res = None\n",
    "    addendums = set()\n",
    "\n",
    "    for num in data:\n",
    "        if num in addendums:\n",
    "            res = num * (target_sum - num)\n",
    "            break\n",
    "        else:\n",
    "            addendums.add(target_sum - num)\n",
    "\n",
    "    return res\n",
    "\n",
    "\n",
    "res = find_two_addendums(data, 2020)\n",
    "print(res)"
   ]
  },
  {
   "cell_type": "markdown",
   "metadata": {},
   "source": [
    "# Part 2"
   ]
  },
  {
   "cell_type": "code",
   "execution_count": 3,
   "metadata": {
    "ExecuteTime": {
     "end_time": "2020-12-01T13:47:42.272772Z",
     "start_time": "2020-12-01T13:47:42.241874Z"
    }
   },
   "outputs": [
    {
     "name": "stdout",
     "output_type": "stream",
     "text": [
      "155806250\n"
     ]
    }
   ],
   "source": [
    "def find_three_addendums(data, target_sum):\n",
    "    res = None\n",
    "\n",
    "    for i, num in enumerate(data):\n",
    "        couple = find_two_addendums(data[:i] + data[i + 1:], target_sum - num)\n",
    "        if couple is not None:\n",
    "            res = num * couple\n",
    "            break\n",
    "\n",
    "    return res\n",
    "\n",
    "\n",
    "res = find_three_addendums(data, 2020)\n",
    "print(res)"
   ]
  }
 ],
 "metadata": {
  "kernelspec": {
   "display_name": "Python 3",
   "language": "python",
   "name": "python3"
  },
  "language_info": {
   "codemirror_mode": {
    "name": "ipython",
    "version": 3
   },
   "file_extension": ".py",
   "mimetype": "text/x-python",
   "name": "python",
   "nbconvert_exporter": "python",
   "pygments_lexer": "ipython3",
   "version": "3.7.4"
  },
  "toc": {
   "base_numbering": 1,
   "nav_menu": {},
   "number_sections": true,
   "sideBar": true,
   "skip_h1_title": false,
   "title_cell": "Table of Contents",
   "title_sidebar": "Contents",
   "toc_cell": false,
   "toc_position": {},
   "toc_section_display": true,
   "toc_window_display": false
  }
 },
 "nbformat": 4,
 "nbformat_minor": 2
}
