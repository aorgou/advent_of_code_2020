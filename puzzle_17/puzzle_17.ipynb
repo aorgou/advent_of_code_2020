{
 "cells": [
  {
   "cell_type": "code",
   "execution_count": 1,
   "metadata": {
    "ExecuteTime": {
     "end_time": "2020-12-17T13:31:09.409374Z",
     "start_time": "2020-12-17T13:31:09.400484Z"
    }
   },
   "outputs": [
    {
     "name": "stdout",
     "output_type": "stream",
     "text": [
      "['#.......', '.#..#..#', '....#.#.', '.##..#.#', '#######.', '#...####', '###.##..', '.##.#.#.']\n"
     ]
    }
   ],
   "source": [
    "with open('input.txt', \"r\") as file:\n",
    "    data = file.read().split()\n",
    "\n",
    "print(data)"
   ]
  },
  {
   "cell_type": "code",
   "execution_count": 2,
   "metadata": {
    "ExecuteTime": {
     "end_time": "2020-12-17T13:31:09.506244Z",
     "start_time": "2020-12-17T13:31:09.417415Z"
    }
   },
   "outputs": [],
   "source": [
    "test_0 = '''.#.\n",
    "..#\n",
    "###'''.split()"
   ]
  },
  {
   "cell_type": "markdown",
   "metadata": {},
   "source": [
    "# Part 1"
   ]
  },
  {
   "cell_type": "code",
   "execution_count": 3,
   "metadata": {
    "ExecuteTime": {
     "end_time": "2020-12-17T13:31:09.585179Z",
     "start_time": "2020-12-17T13:31:09.508415Z"
    },
    "code_folding": [
     3,
     12,
     28,
     33
    ]
   },
   "outputs": [],
   "source": [
    "from itertools import product\n",
    "\n",
    "\n",
    "def count_neibghs(cell, active):\n",
    "    n_dim = len(cell)\n",
    "    neibghs = -1 if cell in active else 0\n",
    "    for d in product([-1, 0, 1], repeat = n_dim):\n",
    "        neibgh_cell = tuple((ci+di for ci, di in zip(cell, d)))\n",
    "        if neibgh_cell in active:\n",
    "            neibghs += 1\n",
    "    return neibghs\n",
    "\n",
    "def gen_next_active(active, n_dim):\n",
    "    neibgh_cells = set()\n",
    "    for cell in active:\n",
    "        for d in product([-1, 0, 1], repeat = n_dim):\n",
    "            neibgh_cell = tuple((ci+di for ci, di in zip(cell, d)))\n",
    "            neibgh_cells.add(neibgh_cell)\n",
    "\n",
    "    next_active = set()\n",
    "    for cell in neibgh_cells:\n",
    "        n_neibghs = count_neibghs(cell, active)\n",
    "        if ((cell in active and n_neibghs in (2, 3))\n",
    "            or (cell not in active and n_neibghs == 3)):\n",
    "            next_active.add(cell)\n",
    "\n",
    "    return next_active\n",
    "\n",
    "def gen_nth_active(active, n, n_dim):\n",
    "    for i in range(n):\n",
    "        active = gen_next_active(active, n_dim)\n",
    "    return active\n",
    "\n",
    "def set_first_active(data, n_dim):\n",
    "    base = set()\n",
    "    for i, line in enumerate(data):\n",
    "        for j, s in enumerate(line):\n",
    "            if s == '#':\n",
    "                base.add((i,j))\n",
    "    active = set()\n",
    "    for b in base:\n",
    "        el = [0] * (n_dim - len(b))\n",
    "        active.add((*el, *b))\n",
    "    return active\n"
   ]
  },
  {
   "cell_type": "code",
   "execution_count": 4,
   "metadata": {
    "ExecuteTime": {
     "end_time": "2020-12-17T13:31:09.922781Z",
     "start_time": "2020-12-17T13:31:09.587924Z"
    }
   },
   "outputs": [
    {
     "name": "stdout",
     "output_type": "stream",
     "text": [
      "218\n"
     ]
    }
   ],
   "source": [
    "n_dim = 3\n",
    "\n",
    "assert(len(gen_nth_active(set_first_active(test_0, n_dim), 6, n_dim)) == 112)\n",
    "\n",
    "print(len(gen_nth_active(set_first_active(data, n_dim), 6, n_dim)))"
   ]
  },
  {
   "cell_type": "markdown",
   "metadata": {},
   "source": [
    "# Part 2"
   ]
  },
  {
   "cell_type": "code",
   "execution_count": 5,
   "metadata": {
    "ExecuteTime": {
     "end_time": "2020-12-17T13:31:15.945725Z",
     "start_time": "2020-12-17T13:31:09.924994Z"
    }
   },
   "outputs": [
    {
     "data": {
      "text/plain": [
       "1908"
      ]
     },
     "execution_count": 5,
     "metadata": {},
     "output_type": "execute_result"
    }
   ],
   "source": [
    "n_dim = 4\n",
    "\n",
    "assert(len(gen_nth_active(set_first_active(test_0, n_dim), 6, n_dim)) == 848)\n",
    "\n",
    "len(gen_nth_active(set_first_active(data, n_dim), 6, n_dim))"
   ]
  }
 ],
 "metadata": {
  "kernelspec": {
   "display_name": "Python 3",
   "language": "python",
   "name": "python3"
  },
  "language_info": {
   "codemirror_mode": {
    "name": "ipython",
    "version": 3
   },
   "file_extension": ".py",
   "mimetype": "text/x-python",
   "name": "python",
   "nbconvert_exporter": "python",
   "pygments_lexer": "ipython3",
   "version": "3.7.4"
  },
  "toc": {
   "base_numbering": 1,
   "nav_menu": {},
   "number_sections": true,
   "sideBar": true,
   "skip_h1_title": false,
   "title_cell": "Table of Contents",
   "title_sidebar": "Contents",
   "toc_cell": false,
   "toc_position": {},
   "toc_section_display": true,
   "toc_window_display": false
  }
 },
 "nbformat": 4,
 "nbformat_minor": 2
}
