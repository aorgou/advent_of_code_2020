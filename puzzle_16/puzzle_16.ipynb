{
 "cells": [
  {
   "cell_type": "code",
   "execution_count": 1,
   "metadata": {
    "ExecuteTime": {
     "end_time": "2020-12-16T14:03:37.465753Z",
     "start_time": "2020-12-16T14:03:37.454975Z"
    }
   },
   "outputs": [
    {
     "name": "stdout",
     "output_type": "stream",
     "text": [
      "departure location: 27-374 or 395-974\n",
      "departure station: 40-287 or 295-953\n",
      "departure platform: 27-554 or 570-961\n",
      "departure track: 40-604 or 618-958\n",
      "departure date: 43-842 or 850-972\n",
      "departure time: 30-302 or 315-952\n",
      "arrival location: 32-478 or 496-950\n",
      "arrival station: 48-733 or 755-969\n",
      "arrival platform: 37-260 or 276-954\n",
      "arrival track: 40-512 or 519-964\n",
      "class: 34-277 or 284-966\n",
      "duration: 25-648 or 672-961\n",
      "price: 28-684 or 705-956\n",
      "route: 30-157 or 176-950\n",
      "row: 47-881 or 903-970\n",
      "seat: 38-705 or 727-959\n",
      "train: 40-195 or 217-961\n",
      "type: 28-858 or 879-958\n",
      "wagon: 31-543 or 554-967\n",
      "zone: 49-790 or 816-953\n"
     ]
    }
   ],
   "source": [
    "with open('input.txt', \"r\") as file:\n",
    "    data = file.read().split('\\n\\n')\n",
    "\n",
    "print(data[0])"
   ]
  },
  {
   "cell_type": "code",
   "execution_count": 2,
   "metadata": {
    "ExecuteTime": {
     "end_time": "2020-12-16T14:03:37.573384Z",
     "start_time": "2020-12-16T14:03:37.478847Z"
    }
   },
   "outputs": [],
   "source": [
    "test_0 = '''class: 1-3 or 5-7\n",
    "row: 6-11 or 33-44\n",
    "seat: 13-40 or 45-50\n",
    "\n",
    "your ticket:\n",
    "7,1,14\n",
    "\n",
    "nearby tickets:\n",
    "7,3,47\n",
    "40,4,50\n",
    "55,2,20\n",
    "38,6,12'''.split('\\n\\n')"
   ]
  },
  {
   "cell_type": "code",
   "execution_count": 3,
   "metadata": {
    "ExecuteTime": {
     "end_time": "2020-12-16T14:03:37.651409Z",
     "start_time": "2020-12-16T14:03:37.575293Z"
    }
   },
   "outputs": [],
   "source": [
    "test_1 = '''class: 0-1 or 4-19\n",
    "row: 0-5 or 8-19\n",
    "seat: 0-13 or 16-19\n",
    "\n",
    "your ticket:\n",
    "11,12,13\n",
    "\n",
    "nearby tickets:\n",
    "3,9,18\n",
    "15,1,5\n",
    "5,14,9'''.split('\\n\\n')"
   ]
  },
  {
   "cell_type": "markdown",
   "metadata": {},
   "source": [
    "# Part 1"
   ]
  },
  {
   "cell_type": "code",
   "execution_count": 4,
   "metadata": {
    "ExecuteTime": {
     "end_time": "2020-12-16T14:03:37.741656Z",
     "start_time": "2020-12-16T14:03:37.654107Z"
    }
   },
   "outputs": [
    {
     "data": {
      "text/plain": [
       "26941"
      ]
     },
     "execution_count": 4,
     "metadata": {},
     "output_type": "execute_result"
    }
   ],
   "source": [
    "def parse_data(ticket_rules, your_ticket, nearby_tickets):\n",
    "    '''\n",
    "    Variables:\n",
    "        rules -> {rule_name: [a1, b1, a2, b2]}\n",
    "            a1 <= x <= b1 or a1 <= x <= b1 ~ rule is satisfied\n",
    "        your_ticket -> [int, ...]\n",
    "        nearby_tickets -> [[int, ...], ...]\n",
    "\n",
    "    Returns:\n",
    "        (rules, your_ticket, nearby_tickets)\n",
    "    '''\n",
    "    ticket_rules = ticket_rules.strip().split('\\n')\n",
    "    rules = {}\n",
    "    for rule in ticket_rules:\n",
    "        rule_title, rule_values = rule.split(': ')\n",
    "        range_1, range_2 = rule_values.split(' or ')\n",
    "        r1_a, r1_b, r2_a, r2_b = list(map(int, (*range_1.split('-'), *range_2.split('-'))))\n",
    "        rules[rule_title] = (r1_a, r1_b, r2_a, r2_b)\n",
    "    your_ticket = list(map(int, your_ticket.strip().split('\\n')[1].split(',')))\n",
    "    nearby_tickets = list(map(\n",
    "        lambda x: list(map(lambda y: int(y), x.split(','))),\n",
    "        nearby_tickets.strip().split('\\n')[1:]))\n",
    "\n",
    "    return rules, your_ticket, nearby_tickets\n",
    "\n",
    "def compute_error(nearby_tickets, rules):\n",
    "    not_valid = []\n",
    "    for ticket_vals in nearby_tickets:\n",
    "        for val in ticket_vals:\n",
    "            valid = False\n",
    "            for a1, b1, a2, b2 in rules.values():\n",
    "                if a1 <= val <= b1 or a2 <= val <= b2:\n",
    "                    valid = True\n",
    "                    break\n",
    "            if not valid:\n",
    "                not_valid.append(val)\n",
    "    return(sum(not_valid))\n",
    "\n",
    "def solve_p1(data):\n",
    "    rules, your_ticket, nearby_tickets = parse_data(*data)\n",
    "    res = compute_error(nearby_tickets, rules)\n",
    "    return res\n",
    "\n",
    "\n",
    "assert(solve_p1(test_0)) == 71\n",
    "\n",
    "solve_p1(data)"
   ]
  },
  {
   "cell_type": "markdown",
   "metadata": {},
   "source": [
    "# Part 2"
   ]
  },
  {
   "cell_type": "code",
   "execution_count": 5,
   "metadata": {
    "ExecuteTime": {
     "end_time": "2020-12-16T14:03:37.874184Z",
     "start_time": "2020-12-16T14:03:37.743282Z"
    }
   },
   "outputs": [
    {
     "data": {
      "text/plain": [
       "634796407951"
      ]
     },
     "execution_count": 5,
     "metadata": {},
     "output_type": "execute_result"
    }
   ],
   "source": [
    "from functools import reduce\n",
    "\n",
    "def get_valid_tickets(tickets, rules):\n",
    "    '''\n",
    "    Form list from tickets, where each element \n",
    "    satisfies at least one rule\n",
    "    \n",
    "    Variables:\n",
    "        valid_tickets -> [[int, ...], ...]\n",
    "\n",
    "    Returns:\n",
    "        valid_tickets\n",
    "    '''\n",
    "    ids_not_valid = set()\n",
    "    for t_id, ticket_vals in enumerate(tickets):\n",
    "        for val in ticket_vals:\n",
    "            valid = False\n",
    "            for a1, b1, a2, b2 in rules.values():\n",
    "                if a1 <= val <= b1 or a2 <= val <= b2:\n",
    "                    valid = True\n",
    "                    break\n",
    "            if not valid:\n",
    "                ids_not_valid.add(t_id)\n",
    "\n",
    "    valid_tickets = [ticket for t_id, ticket in enumerate(tickets) if t_id not in ids_not_valid]\n",
    "    return valid_tickets\n",
    "\n",
    "def find_rule2index_mapping(tickets, rules):\n",
    "    '''\n",
    "    Form matrix M, such that\n",
    "    M[row_i][col_j] == 1 <=> rule i stands for col_j\n",
    "    Add rule names in rows\n",
    "    Find rule2index mapping\n",
    "    Note, that \n",
    "    exactly one solution <=> there are no \n",
    "    \n",
    "    Variables:\n",
    "        rule2index_mapping = {\n",
    "            rule_name: index, ...\n",
    "        }\n",
    "\n",
    "    Returns:\n",
    "        rule2index_mapping\n",
    "    '''\n",
    "    M = [[1 for j in range(len(rules))]\n",
    "         for i in range(len(rules))]\n",
    "\n",
    "    for i, ticket_vals in enumerate(tickets):\n",
    "        for q, val in enumerate(ticket_vals):\n",
    "            for p, rule_name in enumerate(rules):\n",
    "                a1, b1, a2, b2 = rules[rule_name]\n",
    "                if not (a1 <= val <= b1) and not (a2 <= val <= b2):\n",
    "                    M[p][q] = 0\n",
    "\n",
    "    rule2index_map = {}\n",
    "    named_M = [[line, rule_name] for rule_name, line in zip(rules, M)]\n",
    "    srtd_nmd_M = sorted(named_M, key = lambda x: sum(x[0]))\n",
    "    for i, line in enumerate(srtd_nmd_M):\n",
    "        # as M consists only of 1s and 0s\n",
    "        # only one 1 is guaranteed for solvable \n",
    "        if sum(line[0]) == 1:\n",
    "            col_i = line[0].index(1)\n",
    "            for row_i in range(i+1, len(srtd_nmd_M)):\n",
    "                srtd_nmd_M[row_i][0][col_i] = 0\n",
    "            rule2index_map[line[1]] = line[0].index(1)\n",
    "        else:\n",
    "            rule2index_map = None\n",
    "            break\n",
    "\n",
    "    return rule2index_map\n",
    "\n",
    "def solve_p2(data):\n",
    "    rules, your_ticket, nearby_tickets = parse_data(*data)\n",
    "    valid_tickets = get_valid_tickets(nearby_tickets, rules)\n",
    "\n",
    "    rule2index_map = find_rule2index_mapping(valid_tickets, rules)\n",
    "    indxs = [rule2index_map[rule_name] for rule_name in rule2index_map if 'departure' in rule_name]\n",
    "\n",
    "    return reduce(lambda a, b: a*b, [your_ticket[i] for i in indxs])\n",
    "\n",
    "def test_mapping(data, mapping):\n",
    "    rules, your_ticket, nearby_tickets = parse_data(*data)\n",
    "    valid_tickets = get_valid_tickets(nearby_tickets, rules)\n",
    "    rule2index_map = find_rule2index_mapping(valid_tickets, rules)\n",
    "    res = True\n",
    "    for rule in rule2index_map:\n",
    "        if rule2index_map[rule] != mapping[rule]:\n",
    "            res = False\n",
    "            break\n",
    "    return res\n",
    "\n",
    "\n",
    "assert(test_mapping(test_1, {'class': 1, 'row': 0, 'seat': 2}))\n",
    "\n",
    "solve_p2(data)"
   ]
  }
 ],
 "metadata": {
  "kernelspec": {
   "display_name": "Python 3",
   "language": "python",
   "name": "python3"
  },
  "language_info": {
   "codemirror_mode": {
    "name": "ipython",
    "version": 3
   },
   "file_extension": ".py",
   "mimetype": "text/x-python",
   "name": "python",
   "nbconvert_exporter": "python",
   "pygments_lexer": "ipython3",
   "version": "3.7.4"
  },
  "toc": {
   "base_numbering": 1,
   "nav_menu": {},
   "number_sections": true,
   "sideBar": true,
   "skip_h1_title": false,
   "title_cell": "Table of Contents",
   "title_sidebar": "Contents",
   "toc_cell": false,
   "toc_position": {},
   "toc_section_display": true,
   "toc_window_display": false
  }
 },
 "nbformat": 4,
 "nbformat_minor": 2
}
