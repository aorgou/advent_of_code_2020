{
 "cells": [
  {
   "cell_type": "code",
   "execution_count": 1,
   "metadata": {
    "ExecuteTime": {
     "end_time": "2020-12-20T01:30:41.149310Z",
     "start_time": "2020-12-20T01:30:41.129960Z"
    }
   },
   "outputs": [
    {
     "name": "stdout",
     "output_type": "stream",
     "text": [
      "19650\n"
     ]
    }
   ],
   "source": [
    "with open('input.txt', \"r\") as file:\n",
    "    data = file.read()\n",
    "\n",
    "print(len(data))"
   ]
  },
  {
   "cell_type": "code",
   "execution_count": 2,
   "metadata": {
    "ExecuteTime": {
     "end_time": "2020-12-20T01:30:42.176518Z",
     "start_time": "2020-12-20T01:30:42.171647Z"
    }
   },
   "outputs": [],
   "source": [
    "test_0 = '''0: 4 1 5\n",
    "1: 2 3 | 3 2\n",
    "2: 4 4 | 5 5\n",
    "3: 4 5 | 5 4\n",
    "4: \"a\"\n",
    "5: \"b\"\n",
    "\n",
    "ababbb\n",
    "bababa\n",
    "abbbab\n",
    "aaabbb\n",
    "aaaabbb'''"
   ]
  },
  {
   "cell_type": "markdown",
   "metadata": {},
   "source": [
    "# Part 1"
   ]
  },
  {
   "cell_type": "code",
   "execution_count": 3,
   "metadata": {
    "ExecuteTime": {
     "end_time": "2020-12-20T01:30:43.590786Z",
     "start_time": "2020-12-20T01:30:43.574820Z"
    },
    "code_folding": [
     0
    ]
   },
   "outputs": [],
   "source": [
    "def make_rules_list(rules):\n",
    "    rules_tree = {}\n",
    "    rules_d = {}\n",
    "\n",
    "    for rule in rules:\n",
    "        rule_i, rule_vals = rule.split(': ')\n",
    "        rule_i = int(rule_i)\n",
    "\n",
    "        rule_vals_parsed = None\n",
    "        if rule_vals[1] in 'ab':\n",
    "            rule_vals_parsed = rule_vals[1]\n",
    "        elif '|' in rule_vals:\n",
    "            rule_vals_parsed = list(map(lambda L: [int(x) for x in L.split(' ')],\n",
    "                                        rule_vals.split(' | ')))\n",
    "        else:\n",
    "            rule_vals_parsed = [[int(x) for x in rule_vals.split(' ')]]\n",
    "\n",
    "        rules_d[rule_i] = rule_vals_parsed\n",
    "\n",
    "    rules_l = [rules_d[i] for i in range(len(rules_d))]\n",
    "    return rules_l\n",
    "\n",
    "def check_seq(msg, rules_l, flattern_rules):\n",
    "    if not flattern_rules or not msg:\n",
    "        return not flattern_rules and not msg\n",
    "\n",
    "    rule = flattern_rules[0]\n",
    "    res = False\n",
    "    for rules_option in rules_l[rule]:\n",
    "        if res:\n",
    "            break\n",
    "        if not (type(rules_option) == str):\n",
    "            new_flattern_rules = rules_option + flattern_rules[1:]\n",
    "            res = check_seq(msg, rules_l, new_flattern_rules)\n",
    "        else:\n",
    "            if rules_option != msg[0]:\n",
    "                continue\n",
    "            else:\n",
    "                res = check_seq(msg[1:], rules_l, flattern_rules[1:])\n",
    "    return res\n",
    "\n",
    "def count_fitting_msgs(rules_l, messages):\n",
    "    n_msgs = 0\n",
    "    for m in messages:\n",
    "        if check_seq(m, rules_l, [0]):\n",
    "            n_msgs += 1\n",
    "    return n_msgs"
   ]
  },
  {
   "cell_type": "code",
   "execution_count": 4,
   "metadata": {
    "ExecuteTime": {
     "end_time": "2020-12-20T01:30:45.364535Z",
     "start_time": "2020-12-20T01:30:45.316913Z"
    },
    "code_folding": []
   },
   "outputs": [
    {
     "name": "stdout",
     "output_type": "stream",
     "text": [
      "248\n"
     ]
    }
   ],
   "source": [
    "rules, messages = [x.splitlines() for x in test_0.split('\\n\\n')]\n",
    "rules_l = make_rules_list(rules)\n",
    "assert(count_fitting_msgs(rules_l, messages) == 2)\n",
    "\n",
    "rules, messages = [x.splitlines() for x in data.split('\\n\\n')]\n",
    "rules_l = make_rules_list(rules)\n",
    "print(count_fitting_msgs(rules_l, messages))"
   ]
  },
  {
   "cell_type": "markdown",
   "metadata": {},
   "source": [
    "# Part 2"
   ]
  },
  {
   "cell_type": "code",
   "execution_count": 5,
   "metadata": {
    "ExecuteTime": {
     "end_time": "2020-12-20T01:30:47.046313Z",
     "start_time": "2020-12-20T01:30:46.908535Z"
    }
   },
   "outputs": [
    {
     "name": "stdout",
     "output_type": "stream",
     "text": [
      "381\n"
     ]
    }
   ],
   "source": [
    "# completely replace rules 8: 42 and 11: 42 31 with the following:\n",
    "# 8: 42 | 42 8\n",
    "# 11: 42 31 | 42 11 31\n",
    "\n",
    "rules_l[8] = [[42], [42, 8]]\n",
    "rules_l[11] = [[42, 31], [42, 11, 31]]\n",
    "\n",
    "print(count_fitting_msgs(rules_l, messages))"
   ]
  }
 ],
 "metadata": {
  "kernelspec": {
   "display_name": "Python 3",
   "language": "python",
   "name": "python3"
  },
  "language_info": {
   "codemirror_mode": {
    "name": "ipython",
    "version": 3
   },
   "file_extension": ".py",
   "mimetype": "text/x-python",
   "name": "python",
   "nbconvert_exporter": "python",
   "pygments_lexer": "ipython3",
   "version": "3.7.4"
  },
  "toc": {
   "base_numbering": 1,
   "nav_menu": {},
   "number_sections": true,
   "sideBar": true,
   "skip_h1_title": false,
   "title_cell": "Table of Contents",
   "title_sidebar": "Contents",
   "toc_cell": false,
   "toc_position": {},
   "toc_section_display": true,
   "toc_window_display": false
  }
 },
 "nbformat": 4,
 "nbformat_minor": 2
}
