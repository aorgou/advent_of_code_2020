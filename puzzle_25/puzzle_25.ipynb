{
 "cells": [
  {
   "cell_type": "code",
   "execution_count": 1,
   "metadata": {
    "ExecuteTime": {
     "end_time": "2020-12-26T13:15:26.257827Z",
     "start_time": "2020-12-26T13:15:26.241460Z"
    }
   },
   "outputs": [
    {
     "name": "stdout",
     "output_type": "stream",
     "text": [
      "['16915772', '18447943']\n"
     ]
    }
   ],
   "source": [
    "with open('input.txt', \"r\") as file:\n",
    "    data = file.read().strip().splitlines()\n",
    "\n",
    "print((data))"
   ]
  },
  {
   "cell_type": "markdown",
   "metadata": {},
   "source": [
    "# Part 1"
   ]
  },
  {
   "cell_type": "code",
   "execution_count": 2,
   "metadata": {
    "ExecuteTime": {
     "end_time": "2020-12-26T13:15:26.364340Z",
     "start_time": "2020-12-26T13:15:26.261982Z"
    }
   },
   "outputs": [],
   "source": [
    "N = 20201227\n",
    "\n",
    "key_1, key_2 = list(map(lambda x: int(x), data))\n",
    "step = 7"
   ]
  },
  {
   "cell_type": "code",
   "execution_count": 3,
   "metadata": {
    "ExecuteTime": {
     "end_time": "2020-12-26T13:15:27.230017Z",
     "start_time": "2020-12-26T13:15:26.372275Z"
    }
   },
   "outputs": [
    {
     "name": "stdout",
     "output_type": "stream",
     "text": [
      "6011069\n"
     ]
    }
   ],
   "source": [
    "num, loop_size = 1, 0\n",
    "while num != key_1:\n",
    "    num = num * 7 % N\n",
    "    loop_size += 1\n",
    "\n",
    "res = pow(key_2, loop_size, N)\n",
    "print(res)"
   ]
  },
  {
   "cell_type": "code",
   "execution_count": 4,
   "metadata": {
    "ExecuteTime": {
     "end_time": "2020-12-26T13:15:28.393457Z",
     "start_time": "2020-12-26T13:15:27.232297Z"
    }
   },
   "outputs": [
    {
     "name": "stdout",
     "output_type": "stream",
     "text": [
      "6011069\n"
     ]
    }
   ],
   "source": [
    "num, loop_size = 1, 0\n",
    "while num != key_2:\n",
    "    num = num * 7 % N\n",
    "    loop_size += 1\n",
    "\n",
    "res = pow(key_1, loop_size, N)\n",
    "print(res)"
   ]
  },
  {
   "cell_type": "code",
   "execution_count": 5,
   "metadata": {
    "ExecuteTime": {
     "end_time": "2020-12-26T13:15:28.430021Z",
     "start_time": "2020-12-26T13:15:28.395543Z"
    }
   },
   "outputs": [
    {
     "name": "stdout",
     "output_type": "stream",
     "text": [
      "6011069\n"
     ]
    }
   ],
   "source": [
    "#num, loop_size = 1, 0\n",
    "#while num != key_2:\n",
    "#    num = num * 7 % N\n",
    "#    loop_size += 1\n",
    "#\n",
    "#~\n",
    "#\n",
    "# key = 7^loop_size % N\n",
    "# or g ^ x = y % N\n",
    "# loop_size = descrete log(7, key, mod(N))\n",
    "# solving with baby step, giant step algorithm:\n",
    "\n",
    "import math\n",
    "\n",
    "def get_dlog(g, y, N):\n",
    "    res = None\n",
    "\n",
    "    r = int(N ** 0.5) + 1\n",
    "    g_steps = {pow(g, r * (i + 1), N): r * (i + 1) for i in range(1, r + 1)}\n",
    "    for j in range(r):\n",
    "        b_step = y * pow(g, j, N) % N\n",
    "        if b_step in g_steps:\n",
    "            res = g_steps[b_step] - j\n",
    "\n",
    "    return res\n",
    "\n",
    "loop_size = get_dlog(7, key_1, N)\n",
    "res = pow(key_2, loop_size, N)\n",
    "print(res)"
   ]
  },
  {
   "cell_type": "code",
   "execution_count": 6,
   "metadata": {
    "ExecuteTime": {
     "end_time": "2020-12-26T13:15:28.560092Z",
     "start_time": "2020-12-26T13:15:28.432698Z"
    }
   },
   "outputs": [
    {
     "name": "stdout",
     "output_type": "stream",
     "text": [
      "6011069\n"
     ]
    }
   ],
   "source": [
    "loop_size = get_dlog(7, key_2, N)\n",
    "res = pow(key_1, loop_size, N)\n",
    "print(res)"
   ]
  }
 ],
 "metadata": {
  "kernelspec": {
   "display_name": "Python 3",
   "language": "python",
   "name": "python3"
  },
  "language_info": {
   "codemirror_mode": {
    "name": "ipython",
    "version": 3
   },
   "file_extension": ".py",
   "mimetype": "text/x-python",
   "name": "python",
   "nbconvert_exporter": "python",
   "pygments_lexer": "ipython3",
   "version": "3.7.4"
  },
  "toc": {
   "base_numbering": 1,
   "nav_menu": {},
   "number_sections": true,
   "sideBar": true,
   "skip_h1_title": false,
   "title_cell": "Table of Contents",
   "title_sidebar": "Contents",
   "toc_cell": false,
   "toc_position": {},
   "toc_section_display": true,
   "toc_window_display": false
  }
 },
 "nbformat": 4,
 "nbformat_minor": 2
}
