{
 "cells": [
  {
   "cell_type": "code",
   "execution_count": 1,
   "metadata": {
    "ExecuteTime": {
     "end_time": "2020-12-25T15:17:26.433286Z",
     "start_time": "2020-12-25T15:17:26.419050Z"
    }
   },
   "outputs": [
    {
     "name": "stdout",
     "output_type": "stream",
     "text": [
      "['16915772', '18447943']\n"
     ]
    }
   ],
   "source": [
    "with open('input.txt', \"r\") as file:\n",
    "    data = file.read().strip().splitlines()\n",
    "\n",
    "print((data))"
   ]
  },
  {
   "cell_type": "markdown",
   "metadata": {},
   "source": [
    "# Part 1"
   ]
  },
  {
   "cell_type": "code",
   "execution_count": 2,
   "metadata": {
    "ExecuteTime": {
     "end_time": "2020-12-25T15:17:26.519084Z",
     "start_time": "2020-12-25T15:17:26.445590Z"
    }
   },
   "outputs": [],
   "source": [
    "N = 20201227\n",
    "\n",
    "key_1, key_2 = list(map(lambda x: int(x), data))\n",
    "step = 7"
   ]
  },
  {
   "cell_type": "code",
   "execution_count": 3,
   "metadata": {
    "ExecuteTime": {
     "end_time": "2020-12-25T15:17:27.399593Z",
     "start_time": "2020-12-25T15:17:26.523893Z"
    }
   },
   "outputs": [
    {
     "name": "stdout",
     "output_type": "stream",
     "text": [
      "6011069\n"
     ]
    }
   ],
   "source": [
    "num, loop_size = 1, 0\n",
    "while num != key_1:\n",
    "    num = num * 7 % N\n",
    "    loop_size += 1\n",
    "\n",
    "res = pow(key_2, loop_size, N)\n",
    "print(res)"
   ]
  },
  {
   "cell_type": "code",
   "execution_count": 4,
   "metadata": {
    "ExecuteTime": {
     "end_time": "2020-12-25T15:17:28.511648Z",
     "start_time": "2020-12-25T15:17:27.402408Z"
    }
   },
   "outputs": [
    {
     "name": "stdout",
     "output_type": "stream",
     "text": [
      "6011069\n"
     ]
    }
   ],
   "source": [
    "num, loop_size = 1, 0\n",
    "while num != key_2:\n",
    "    num = num * 7 % N\n",
    "    loop_size += 1\n",
    "\n",
    "res = pow(key_1, loop_size, N)\n",
    "print(res)"
   ]
  }
 ],
 "metadata": {
  "kernelspec": {
   "display_name": "Python 3",
   "language": "python",
   "name": "python3"
  },
  "language_info": {
   "codemirror_mode": {
    "name": "ipython",
    "version": 3
   },
   "file_extension": ".py",
   "mimetype": "text/x-python",
   "name": "python",
   "nbconvert_exporter": "python",
   "pygments_lexer": "ipython3",
   "version": "3.7.4"
  },
  "toc": {
   "base_numbering": 1,
   "nav_menu": {},
   "number_sections": true,
   "sideBar": true,
   "skip_h1_title": false,
   "title_cell": "Table of Contents",
   "title_sidebar": "Contents",
   "toc_cell": false,
   "toc_position": {},
   "toc_section_display": true,
   "toc_window_display": false
  }
 },
 "nbformat": 4,
 "nbformat_minor": 2
}
