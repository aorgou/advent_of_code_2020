{
 "cells": [
  {
   "cell_type": "code",
   "execution_count": 1,
   "metadata": {
    "ExecuteTime": {
     "end_time": "2020-12-07T17:07:32.530094Z",
     "start_time": "2020-12-07T17:07:32.516023Z"
    }
   },
   "outputs": [
    {
     "name": "stdout",
     "output_type": "stream",
     "text": [
      "mirrored gold bags contain 3 light teal bags.\n"
     ]
    }
   ],
   "source": [
    "with open('input.txt', \"r\") as file:\n",
    "    data = file.read()\n",
    "\n",
    "\n",
    "print(data.splitlines()[0])"
   ]
  },
  {
   "cell_type": "code",
   "execution_count": 2,
   "metadata": {
    "ExecuteTime": {
     "end_time": "2020-12-07T17:07:32.764986Z",
     "start_time": "2020-12-07T17:07:32.534645Z"
    }
   },
   "outputs": [],
   "source": [
    "test1 = '''light red bags contain 1 bright white bag, 2 muted yellow bags.\n",
    "dark orange bags contain 3 bright white bags, 4 muted yellow bags.\n",
    "bright white bags contain 1 shiny gold bag.\n",
    "muted yellow bags contain 2 shiny gold bags, 9 faded blue bags.\n",
    "shiny gold bags contain 1 dark olive bag, 2 vibrant plum bags.\n",
    "dark olive bags contain 3 faded blue bags, 4 dotted black bags.\n",
    "vibrant plum bags contain 5 faded blue bags, 6 dotted black bags.\n",
    "faded blue bags contain no other bags.\n",
    "dotted black bags contain no other bags.'''"
   ]
  },
  {
   "cell_type": "code",
   "execution_count": 3,
   "metadata": {
    "ExecuteTime": {
     "end_time": "2020-12-07T17:07:32.876909Z",
     "start_time": "2020-12-07T17:07:32.776042Z"
    }
   },
   "outputs": [],
   "source": [
    "test2 = '''shiny gold bags contain 2 dark red bags.\n",
    "dark red bags contain 2 dark orange bags.\n",
    "dark orange bags contain 2 dark yellow bags.\n",
    "dark yellow bags contain 2 dark green bags.\n",
    "dark green bags contain 2 dark blue bags.\n",
    "dark blue bags contain 2 dark violet bags.\n",
    "dark violet bags contain no other bags.'''"
   ]
  },
  {
   "cell_type": "code",
   "execution_count": 4,
   "metadata": {
    "ExecuteTime": {
     "end_time": "2020-12-07T17:07:32.952337Z",
     "start_time": "2020-12-07T17:07:32.881206Z"
    },
    "code_folding": []
   },
   "outputs": [],
   "source": [
    "def make_rules(data):\n",
    "    \"\"\"\n",
    "    parse puzzle into dict\n",
    "    \n",
    "    f(str) -> {\n",
    "        key_col_1: [(x_1_1 col_1_1), (x_1_2 col_1_2), ...],\n",
    "        key_col_2: [(x_2_1 col_2_1), (x_2_2 col_2_2), ...],\n",
    "        ...\n",
    "    }\n",
    "    \"\"\"\n",
    "    rules = {}\n",
    "    for line in data.splitlines():\n",
    "        line = line.replace(' bags', '')\n",
    "        line = line.replace(' bag', '')\n",
    "        line = line.replace('.', '')\n",
    "        line = line.replace('no other', '0 any')\n",
    "        container, contents = line.split(' contain ')\n",
    "        contents = contents.split(', ')\n",
    "        rules[container] = contents\n",
    "    return rules\n",
    "\n",
    "rules = make_rules(data)\n"
   ]
  },
  {
   "cell_type": "markdown",
   "metadata": {},
   "source": [
    "# Part 1"
   ]
  },
  {
   "cell_type": "code",
   "execution_count": 5,
   "metadata": {
    "ExecuteTime": {
     "end_time": "2020-12-07T17:07:33.054020Z",
     "start_time": "2020-12-07T17:07:32.954880Z"
    }
   },
   "outputs": [
    {
     "name": "stdout",
     "output_type": "stream",
     "text": [
      "278\n"
     ]
    }
   ],
   "source": [
    "def reverse_rules(rules):\n",
    "    rvrsd_rules = {}\n",
    "    for color in rules:\n",
    "        for neighb in rules[color]:\n",
    "            x, new_color = neighb.split(' ', 1)\n",
    "            x = int(x)\n",
    "            if x:\n",
    "                cur_parents = rvrsd_rules.get(new_color, [])\n",
    "                cur_parents.append(color)\n",
    "                rvrsd_rules[new_color] = cur_parents\n",
    "\n",
    "    return rvrsd_rules\n",
    "\n",
    "\n",
    "def get_parent_colors(color_x, rvrsd_rules):\n",
    "    visited = set()\n",
    "    to_visit = set(rvrsd_rules[color_x])\n",
    "\n",
    "    while (to_visit):\n",
    "        next_to_visit = set()\n",
    "        for color in to_visit:\n",
    "            visited.add(color)\n",
    "            if color in rvrsd_rules:\n",
    "                next_to_visit.update([clr for clr in rvrsd_rules[color] if clr not in visited])\n",
    "        to_visit = next_to_visit\n",
    "\n",
    "    return(visited)\n",
    "\n",
    "\n",
    "assert(len(get_parent_colors('shiny gold', reverse_rules(make_rules(test1)))) == 4)\n",
    "\n",
    "print(len(get_parent_colors('shiny gold', reverse_rules(make_rules(data)))))"
   ]
  },
  {
   "cell_type": "markdown",
   "metadata": {},
   "source": [
    "# Part 2"
   ]
  },
  {
   "cell_type": "code",
   "execution_count": 6,
   "metadata": {
    "ExecuteTime": {
     "end_time": "2020-12-07T17:07:33.231734Z",
     "start_time": "2020-12-07T17:07:33.055931Z"
    }
   },
   "outputs": [
    {
     "name": "stdout",
     "output_type": "stream",
     "text": [
      "45157\n"
     ]
    }
   ],
   "source": [
    "def count_bags(color, n, rules):\n",
    "    \"\"\"assuming no cycles, otherwise result is +infinity\"\"\"\n",
    "    res = 0\n",
    "    for neighb in rules[color]:\n",
    "        x, new_color = neighb.split(' ', 1)\n",
    "        x = int(x)\n",
    "        if x:\n",
    "            res += count_bags(new_color, x*n, rules)\n",
    "    return res + n\n",
    "\n",
    "\n",
    "assert(count_bags('shiny gold', 1, make_rules(test1)) - 1 == 32)\n",
    "assert(count_bags('shiny gold', 1, make_rules(test2)) - 1 == 126)\n",
    "\n",
    "print(count_bags('shiny gold', 1, make_rules(data)) - 1)"
   ]
  }
 ],
 "metadata": {
  "kernelspec": {
   "display_name": "Python 3",
   "language": "python",
   "name": "python3"
  },
  "language_info": {
   "codemirror_mode": {
    "name": "ipython",
    "version": 3
   },
   "file_extension": ".py",
   "mimetype": "text/x-python",
   "name": "python",
   "nbconvert_exporter": "python",
   "pygments_lexer": "ipython3",
   "version": "3.7.4"
  },
  "toc": {
   "base_numbering": 1,
   "nav_menu": {},
   "number_sections": true,
   "sideBar": true,
   "skip_h1_title": false,
   "title_cell": "Table of Contents",
   "title_sidebar": "Contents",
   "toc_cell": false,
   "toc_position": {},
   "toc_section_display": true,
   "toc_window_display": false
  }
 },
 "nbformat": 4,
 "nbformat_minor": 2
}
