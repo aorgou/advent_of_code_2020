{
 "cells": [
  {
   "cell_type": "code",
   "execution_count": 1,
   "metadata": {
    "ExecuteTime": {
     "end_time": "2020-12-21T13:28:07.845575Z",
     "start_time": "2020-12-21T13:28:07.839861Z"
    }
   },
   "outputs": [
    {
     "name": "stdout",
     "output_type": "stream",
     "text": [
      "14656\n"
     ]
    }
   ],
   "source": [
    "with open('input.txt', \"r\") as file:\n",
    "    data = file.read().strip()\n",
    "\n",
    "print(len(data))"
   ]
  },
  {
   "cell_type": "markdown",
   "metadata": {
    "ExecuteTime": {
     "end_time": "2020-12-21T11:55:41.821134Z",
     "start_time": "2020-12-21T11:55:41.812796Z"
    }
   },
   "source": [
    "# Part 1"
   ]
  },
  {
   "cell_type": "code",
   "execution_count": 2,
   "metadata": {
    "ExecuteTime": {
     "end_time": "2020-12-21T13:28:07.935030Z",
     "start_time": "2020-12-21T13:28:07.848050Z"
    }
   },
   "outputs": [],
   "source": [
    "data = data.replace('(', '').replace(')', '').replace(',', '')"
   ]
  },
  {
   "cell_type": "code",
   "execution_count": 3,
   "metadata": {
    "ExecuteTime": {
     "end_time": "2020-12-21T13:28:08.029209Z",
     "start_time": "2020-12-21T13:28:07.936983Z"
    }
   },
   "outputs": [
    {
     "name": "stdout",
     "output_type": "stream",
     "text": [
      "ggsz {'soy'}\n",
      "ppdplc {'dairy'}\n",
      "mvqkdj {'shellfish', 'nuts'}\n",
      "hbhsx {'nuts', 'wheat'}\n",
      "ktlh {'fish', 'dairy', 'shellfish', 'wheat'}\n",
      "gkcplx {'dairy', 'eggs', 'sesame'}\n",
      "dqsbql {'fish', 'dairy', 'sesame', 'nuts'}\n",
      "msfmt {'soy', 'nuts'}\n"
     ]
    }
   ],
   "source": [
    "all_ingredients, all_allergens = set(), set()\n",
    "\n",
    "for line in data.splitlines():\n",
    "    ingrds, alrgns = list(map(lambda x: x.split(), line.split(' contains ')))\n",
    "    all_ingredients.update(ingrds)\n",
    "    all_allergens.update(alrgns)\n",
    "\n",
    "suspections = {ingrd: set(all_allergens) for ingrd in all_ingredients}\n",
    "\n",
    "for line in data.splitlines():\n",
    "    ingrds, alrgns = list(map(lambda x: x.split(), line.split(' contains ')))\n",
    "    for alrgn in alrgns:\n",
    "        for ingrd in suspections:\n",
    "            if alrgn in suspections[ingrd] and ingrd not in ingrds:\n",
    "                suspections[ingrd].remove(alrgn)\n",
    "\n",
    "for alr in suspections:\n",
    "    if len(suspections[alr]):\n",
    "        print(alr, suspections[alr])"
   ]
  },
  {
   "cell_type": "code",
   "execution_count": 4,
   "metadata": {
    "ExecuteTime": {
     "end_time": "2020-12-21T13:28:08.103971Z",
     "start_time": "2020-12-21T13:28:08.031502Z"
    }
   },
   "outputs": [
    {
     "name": "stdout",
     "output_type": "stream",
     "text": [
      "2098\n"
     ]
    }
   ],
   "source": [
    "alr_free_n = 0\n",
    "\n",
    "for line in data.splitlines():\n",
    "    ingrds, alrgns = list(map(lambda x: x.split(), line.split(' contains ')))\n",
    "    for ingrd in ingrds:\n",
    "        if len(suspections[ingrd]) == 0:\n",
    "            alr_free_n += 1\n",
    "\n",
    "print(alr_free_n)"
   ]
  },
  {
   "cell_type": "markdown",
   "metadata": {},
   "source": [
    "# Part 2"
   ]
  },
  {
   "cell_type": "code",
   "execution_count": 5,
   "metadata": {
    "ExecuteTime": {
     "end_time": "2020-12-21T13:28:08.228708Z",
     "start_time": "2020-12-21T13:28:08.106093Z"
    }
   },
   "outputs": [
    {
     "data": {
      "text/plain": [
       "[{'row': [0, 0, 0, 1, 0, 0, 0, 0], 'ing': 'ggsz'},\n",
       " {'row': [0, 1, 0, 0, 0, 0, 0, 0], 'ing': 'ppdplc'},\n",
       " {'row': [0, 0, 0, 0, 1, 0, 1, 0], 'ing': 'mvqkdj'},\n",
       " {'row': [0, 0, 0, 0, 0, 0, 1, 1], 'ing': 'hbhsx'},\n",
       " {'row': [0, 0, 0, 1, 0, 0, 1, 0], 'ing': 'msfmt'},\n",
       " {'row': [0, 1, 1, 0, 0, 1, 0, 0], 'ing': 'gkcplx'},\n",
       " {'row': [1, 1, 0, 0, 1, 0, 0, 1], 'ing': 'ktlh'},\n",
       " {'row': [1, 1, 0, 0, 0, 1, 1, 0], 'ing': 'dqsbql'}]"
      ]
     },
     "execution_count": 5,
     "metadata": {},
     "output_type": "execute_result"
    }
   ],
   "source": [
    "guilty = [alr for alr in suspections if len(suspections[alr])]\n",
    "M = [\n",
    "    {\n",
    "        'row': [0 for i in range(len(all_allergens))], \n",
    "        'ing': ingrd\n",
    "    } for i, ingrd in enumerate(guilty)]\n",
    "\n",
    "allergens_list = [alrgn for alrgn in all_allergens]\n",
    "for i, ingrd in enumerate(guilty):\n",
    "    for j, alrgn in enumerate(all_allergens):\n",
    "        if alrgn in suspections[ingrd]:\n",
    "            M[i]['row'][j] = 1\n",
    "\n",
    "M = sorted(M, key = lambda x: sum(x['row']))\n",
    "M"
   ]
  },
  {
   "cell_type": "code",
   "execution_count": 6,
   "metadata": {
    "ExecuteTime": {
     "end_time": "2020-12-21T13:28:08.296092Z",
     "start_time": "2020-12-21T13:28:08.230540Z"
    }
   },
   "outputs": [
    {
     "name": "stdout",
     "output_type": "stream",
     "text": [
      "ppdplc,gkcplx,ktlh,msfmt,dqsbql,mvqkdj,ggsz,hbhsx\n"
     ]
    }
   ],
   "source": [
    "for i in range(len(M)):\n",
    "    if sum(M[i]['row']) == 1:\n",
    "        for j in range(i+1, len(M)):\n",
    "            M[j]['row'][M[i]['row'].index(1)] = 0\n",
    "        M = sorted(M, key = lambda x: sum(x['row']))\n",
    "M = sorted(M, key = lambda x: str(x['row']))\n",
    "\n",
    "res_mapping = []\n",
    "for line in M:\n",
    "    res_mapping.append((line['ing'], allergens_list[line['row'].index(1)]))\n",
    "res_mapping = sorted(res_mapping, key = lambda x: x[1])\n",
    "print(','.join([x[0] for x in res_mapping]))"
   ]
  },
  {
   "cell_type": "code",
   "execution_count": 8,
   "metadata": {
    "ExecuteTime": {
     "end_time": "2020-12-21T22:36:43.716217Z",
     "start_time": "2020-12-21T22:36:43.705526Z"
    }
   },
   "outputs": [
    {
     "data": {
      "text/plain": [
       "([{'row': [0, 0, 0, 0, 0, 0, 0, 1], 'ing': 'hbhsx'},\n",
       "  {'row': [0, 0, 0, 0, 0, 0, 1, 0], 'ing': 'msfmt'},\n",
       "  {'row': [0, 0, 0, 0, 0, 1, 0, 0], 'ing': 'dqsbql'},\n",
       "  {'row': [0, 0, 0, 0, 1, 0, 0, 0], 'ing': 'mvqkdj'},\n",
       "  {'row': [0, 0, 0, 1, 0, 0, 0, 0], 'ing': 'ggsz'},\n",
       "  {'row': [0, 0, 1, 0, 0, 0, 0, 0], 'ing': 'gkcplx'},\n",
       "  {'row': [0, 1, 0, 0, 0, 0, 0, 0], 'ing': 'ppdplc'},\n",
       "  {'row': [1, 0, 0, 0, 0, 0, 0, 0], 'ing': 'ktlh'}],\n",
       " ['fish', 'dairy', 'eggs', 'soy', 'shellfish', 'sesame', 'nuts', 'wheat'],\n",
       " [('ppdplc', 'dairy'),\n",
       "  ('gkcplx', 'eggs'),\n",
       "  ('ktlh', 'fish'),\n",
       "  ('msfmt', 'nuts'),\n",
       "  ('dqsbql', 'sesame'),\n",
       "  ('mvqkdj', 'shellfish'),\n",
       "  ('ggsz', 'soy'),\n",
       "  ('hbhsx', 'wheat')])"
      ]
     },
     "execution_count": 8,
     "metadata": {},
     "output_type": "execute_result"
    }
   ],
   "source": [
    "M, allergens_list, res_mapping"
   ]
  }
 ],
 "metadata": {
  "kernelspec": {
   "display_name": "Python 3",
   "language": "python",
   "name": "python3"
  },
  "language_info": {
   "codemirror_mode": {
    "name": "ipython",
    "version": 3
   },
   "file_extension": ".py",
   "mimetype": "text/x-python",
   "name": "python",
   "nbconvert_exporter": "python",
   "pygments_lexer": "ipython3",
   "version": "3.7.4"
  },
  "toc": {
   "base_numbering": 1,
   "nav_menu": {},
   "number_sections": true,
   "sideBar": true,
   "skip_h1_title": false,
   "title_cell": "Table of Contents",
   "title_sidebar": "Contents",
   "toc_cell": false,
   "toc_position": {},
   "toc_section_display": true,
   "toc_window_display": false
  }
 },
 "nbformat": 4,
 "nbformat_minor": 2
}
