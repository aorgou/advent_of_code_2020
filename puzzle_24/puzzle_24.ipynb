{
 "cells": [
  {
   "cell_type": "code",
   "execution_count": 1,
   "metadata": {
    "ExecuteTime": {
     "end_time": "2020-12-24T10:46:15.091210Z",
     "start_time": "2020-12-24T10:46:15.073838Z"
    }
   },
   "outputs": [
    {
     "name": "stdout",
     "output_type": "stream",
     "text": [
      "19617\n"
     ]
    }
   ],
   "source": [
    "with open('input.txt', \"r\") as file:\n",
    "    data = file.read().strip()\n",
    "\n",
    "print(len(data))"
   ]
  },
  {
   "cell_type": "markdown",
   "metadata": {
    "ExecuteTime": {
     "end_time": "2020-12-24T09:42:07.042902Z",
     "start_time": "2020-12-24T09:42:07.035513Z"
    }
   },
   "source": [
    "# Part 1"
   ]
  },
  {
   "cell_type": "code",
   "execution_count": 2,
   "metadata": {
    "ExecuteTime": {
     "end_time": "2020-12-24T10:46:15.197476Z",
     "start_time": "2020-12-24T10:46:15.096529Z"
    }
   },
   "outputs": [
    {
     "name": "stdout",
     "output_type": "stream",
     "text": [
      "523\n"
     ]
    }
   ],
   "source": [
    "flipped = set()\n",
    "steps = {\n",
    "    'e': 2 + 0j,\n",
    "    'w': -2 + 0j,\n",
    "    'se': 1 - 1j,\n",
    "    'sw': -1 - 1j,\n",
    "    'nw': -1 + 1j,\n",
    "    'ne': 1 + 1j\n",
    "}\n",
    "\n",
    "for step in steps:\n",
    "    data = data.replace(step, step + ' ')\n",
    "data = data.split('\\n')\n",
    "\n",
    "for path in data:\n",
    "    pos = 0 + 0j\n",
    "    for step in path.split():\n",
    "        pos += steps[step]\n",
    "    if pos in flipped:\n",
    "        flipped.remove(pos)\n",
    "    else:\n",
    "        flipped.add(pos)\n",
    "\n",
    "print(len(flipped))"
   ]
  },
  {
   "cell_type": "markdown",
   "metadata": {},
   "source": [
    "# Part 2"
   ]
  },
  {
   "cell_type": "code",
   "execution_count": 3,
   "metadata": {
    "ExecuteTime": {
     "end_time": "2020-12-24T10:46:17.584134Z",
     "start_time": "2020-12-24T10:46:15.200076Z"
    },
    "code_folding": []
   },
   "outputs": [
    {
     "name": "stdout",
     "output_type": "stream",
     "text": [
      "4225\n"
     ]
    }
   ],
   "source": [
    "state = set(flipped)\n",
    "\n",
    "def gen_neighbs(tile):\n",
    "    for dr in steps.values():\n",
    "        yield tile + dr\n",
    "\n",
    "def gen_encircling(tile):\n",
    "    yield tile\n",
    "    for t in gen_neighbs(tile):\n",
    "        yield t\n",
    "\n",
    "def count_neighbs(tile, state):\n",
    "    res = 0\n",
    "    for t in gen_neighbs(tile):\n",
    "        if t in state:\n",
    "            res += 1\n",
    "    return res\n",
    "\n",
    "def gen_next_state(state):\n",
    "    next_state = set()\n",
    "    for active in state:\n",
    "        for tile in gen_encircling(active):\n",
    "            n_neighbs_active = count_neighbs(tile, state)\n",
    "            if ((tile in state and n_neighbs_active in (1, 2))\n",
    "                or (tile not in state and n_neighbs_active == 2)):\n",
    "                next_state.add(tile)\n",
    "\n",
    "    return next_state\n",
    "\n",
    "for _ in range(100):\n",
    "    state = gen_next_state(state)\n",
    "\n",
    "print(len(state))"
   ]
  }
 ],
 "metadata": {
  "kernelspec": {
   "display_name": "Python 3",
   "language": "python",
   "name": "python3"
  },
  "language_info": {
   "codemirror_mode": {
    "name": "ipython",
    "version": 3
   },
   "file_extension": ".py",
   "mimetype": "text/x-python",
   "name": "python",
   "nbconvert_exporter": "python",
   "pygments_lexer": "ipython3",
   "version": "3.7.4"
  },
  "toc": {
   "base_numbering": 1,
   "nav_menu": {},
   "number_sections": true,
   "sideBar": true,
   "skip_h1_title": false,
   "title_cell": "Table of Contents",
   "title_sidebar": "Contents",
   "toc_cell": false,
   "toc_position": {},
   "toc_section_display": true,
   "toc_window_display": false
  }
 },
 "nbformat": 4,
 "nbformat_minor": 2
}
