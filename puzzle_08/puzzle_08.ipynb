{
 "cells": [
  {
   "cell_type": "code",
   "execution_count": 1,
   "metadata": {
    "ExecuteTime": {
     "end_time": "2020-12-08T12:58:36.176852Z",
     "start_time": "2020-12-08T12:58:36.151242Z"
    }
   },
   "outputs": [
    {
     "name": "stdout",
     "output_type": "stream",
     "text": [
      "['nop +346', 'acc +44', 'acc +15', 'jmp +473']\n"
     ]
    }
   ],
   "source": [
    "with open('input.txt', \"r\") as file:\n",
    "    data = file.read()\n",
    "\n",
    "\n",
    "print(data.splitlines()[0:4])"
   ]
  },
  {
   "cell_type": "code",
   "execution_count": 2,
   "metadata": {
    "ExecuteTime": {
     "end_time": "2020-12-08T12:58:52.788185Z",
     "start_time": "2020-12-08T12:58:52.761876Z"
    },
    "scrolled": true
   },
   "outputs": [
    {
     "name": "stdout",
     "output_type": "stream",
     "text": [
      "[['nop', 346], ['acc', 44], ['acc', 15], ['jmp', 473]]\n"
     ]
    }
   ],
   "source": [
    "convert = lambda cmnd, arg: [cmnd, int(arg)]\n",
    "instructions = [convert(*ins.split()) for ins in data.splitlines()]\n",
    "\n",
    "print(instructions[0:4])"
   ]
  },
  {
   "cell_type": "markdown",
   "metadata": {},
   "source": [
    "# Part 1"
   ]
  },
  {
   "cell_type": "code",
   "execution_count": 3,
   "metadata": {
    "ExecuteTime": {
     "end_time": "2020-12-08T12:58:56.362067Z",
     "start_time": "2020-12-08T12:58:56.323392Z"
    }
   },
   "outputs": [
    {
     "name": "stdout",
     "output_type": "stream",
     "text": [
      "1654\n"
     ]
    }
   ],
   "source": [
    "ACCUMULATOR = 0\n",
    "visited = [0 for i in range(len(instructions))]\n",
    "pos = 0\n",
    "\n",
    "while True:\n",
    "    if visited[pos]:\n",
    "        break\n",
    "    visited[pos] = 1\n",
    "\n",
    "    command, argument = instructions[pos]\n",
    "    if command == 'nop':\n",
    "        pos += 1\n",
    "    elif command == 'jmp':\n",
    "        pos += argument\n",
    "    elif command == 'acc':\n",
    "        ACCUMULATOR += argument\n",
    "        pos += 1\n",
    "\n",
    "print (ACCUMULATOR)"
   ]
  },
  {
   "cell_type": "markdown",
   "metadata": {
    "ExecuteTime": {
     "end_time": "2020-12-08T11:23:04.093158Z",
     "start_time": "2020-12-08T11:23:04.082122Z"
    }
   },
   "source": [
    "# Part 2"
   ]
  },
  {
   "cell_type": "code",
   "execution_count": 4,
   "metadata": {
    "ExecuteTime": {
     "end_time": "2020-12-08T12:58:58.012077Z",
     "start_time": "2020-12-08T12:58:58.005576Z"
    }
   },
   "outputs": [],
   "source": [
    "def run(instructions):\n",
    "    \"\"\"\n",
    "    exit_code values:\n",
    "    0 - execute last instruction and stop\n",
    "    2 - faced an instruction second time\n",
    "    \"\"\"\n",
    "    ACCUMULATOR = 0\n",
    "    visited = [0 for i in range(len(instructions))]\n",
    "    pos = 0\n",
    "    exit_code = -1\n",
    "\n",
    "    while exit_code < 0:\n",
    "        if visited[pos]:\n",
    "            exit_code = 2\n",
    "            break\n",
    "        visited[pos] = 1\n",
    "        if pos == len(instructions) - 1:\n",
    "            exit_code = 0\n",
    "\n",
    "        command, arg = instructions[pos]\n",
    "        if command == 'nop':\n",
    "            pos += 1\n",
    "        elif command == 'jmp':\n",
    "            pos += arg\n",
    "        elif command == 'acc':\n",
    "            ACCUMULATOR += arg\n",
    "            pos += 1\n",
    "\n",
    "    return ACCUMULATOR, exit_code"
   ]
  },
  {
   "cell_type": "code",
   "execution_count": 5,
   "metadata": {
    "ExecuteTime": {
     "end_time": "2020-12-08T12:59:01.746141Z",
     "start_time": "2020-12-08T12:59:01.397328Z"
    }
   },
   "outputs": [
    {
     "name": "stdout",
     "output_type": "stream",
     "text": [
      "833\n"
     ]
    }
   ],
   "source": [
    "from copy import deepcopy\n",
    "\n",
    "for i in range(len(instructions)):\n",
    "    mod_insts = deepcopy(instructions)\n",
    "    command, arg = mod_insts[i]\n",
    "    if command == 'nop':\n",
    "        mod_insts[i][0] = 'jmp'\n",
    "    elif command == 'jmp':\n",
    "        mod_insts[i][0] = 'nop'\n",
    "    else:\n",
    "        continue\n",
    "\n",
    "    res, exit_code = run(mod_insts)\n",
    "    if exit_code == 0:\n",
    "        print(res)\n",
    "        break"
   ]
  }
 ],
 "metadata": {
  "kernelspec": {
   "display_name": "Python 3",
   "language": "python",
   "name": "python3"
  },
  "language_info": {
   "codemirror_mode": {
    "name": "ipython",
    "version": 3
   },
   "file_extension": ".py",
   "mimetype": "text/x-python",
   "name": "python",
   "nbconvert_exporter": "python",
   "pygments_lexer": "ipython3",
   "version": "3.7.4"
  },
  "toc": {
   "base_numbering": 1,
   "nav_menu": {},
   "number_sections": true,
   "sideBar": true,
   "skip_h1_title": false,
   "title_cell": "Table of Contents",
   "title_sidebar": "Contents",
   "toc_cell": false,
   "toc_position": {},
   "toc_section_display": true,
   "toc_window_display": false
  }
 },
 "nbformat": 4,
 "nbformat_minor": 2
}
