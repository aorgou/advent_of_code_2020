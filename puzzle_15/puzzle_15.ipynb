{
 "cells": [
  {
   "cell_type": "code",
   "execution_count": 1,
   "metadata": {
    "ExecuteTime": {
     "end_time": "2020-12-15T13:51:03.905810Z",
     "start_time": "2020-12-15T13:51:03.900337Z"
    }
   },
   "outputs": [],
   "source": [
    "data = [0,13,16,17,1,10,6]"
   ]
  },
  {
   "cell_type": "code",
   "execution_count": 2,
   "metadata": {
    "ExecuteTime": {
     "end_time": "2020-12-15T13:51:03.987435Z",
     "start_time": "2020-12-15T13:51:03.909364Z"
    }
   },
   "outputs": [],
   "source": [
    "test_0 = [0, 3, 6] # -> [0 3 6 0 3 3 1 0 4 0]\n",
    "test_1 = [1, 3, 2]\n",
    "test_2 = [2, 1, 3]\n",
    "test_3 = [1, 2, 3]\n",
    "test_4 = [2, 3, 1]\n",
    "test_5 = [3, 2, 1]\n",
    "test_6 = [3, 1, 2]"
   ]
  },
  {
   "cell_type": "markdown",
   "metadata": {},
   "source": [
    "# Part 1"
   ]
  },
  {
   "cell_type": "code",
   "execution_count": 3,
   "metadata": {
    "ExecuteTime": {
     "end_time": "2020-12-15T13:51:04.123256Z",
     "start_time": "2020-12-15T13:51:03.988937Z"
    }
   },
   "outputs": [
    {
     "data": {
      "text/plain": [
       "276"
      ]
     },
     "execution_count": 3,
     "metadata": {},
     "output_type": "execute_result"
    }
   ],
   "source": [
    "def find_nth(base_seq, n):\n",
    "    memed = {val: i for i, val in enumerate(base_seq[:-1])}\n",
    "    prev = base_seq[-1]\n",
    "    for i in range(len(base_seq), n):\n",
    "        cur = 0\n",
    "        if prev in memed:\n",
    "            cur = i - 1 - memed[prev]\n",
    "        memed[prev] = i - 1\n",
    "        prev = cur\n",
    "    return cur\n",
    "\n",
    "\n",
    "assert(find_nth(test_0, 4) == 0)\n",
    "assert(find_nth(test_0, 5) == 3)\n",
    "assert(find_nth(test_0, 6) == 3)\n",
    "assert(find_nth(test_0, 7) == 1)\n",
    "assert(find_nth(test_0, 8) == 0)\n",
    "assert(find_nth(test_0, 9) == 4)\n",
    "assert(find_nth(test_0, 10) == 0)\n",
    "assert(find_nth(test_1, 2020) == 1)\n",
    "assert(find_nth(test_2, 2020) == 10)\n",
    "assert(find_nth(test_3, 2020) == 27)\n",
    "assert(find_nth(test_4, 2020) == 78)\n",
    "assert(find_nth(test_5, 2020) == 438)\n",
    "assert(find_nth(test_6, 2020) == 1836)\n",
    "\n",
    "find_nth(data, 2020)"
   ]
  },
  {
   "cell_type": "markdown",
   "metadata": {},
   "source": [
    "# Part 2"
   ]
  },
  {
   "cell_type": "code",
   "execution_count": 4,
   "metadata": {
    "ExecuteTime": {
     "end_time": "2020-12-15T13:52:32.395445Z",
     "start_time": "2020-12-15T13:51:04.125989Z"
    }
   },
   "outputs": [
    {
     "data": {
      "text/plain": [
       "31916"
      ]
     },
     "execution_count": 4,
     "metadata": {},
     "output_type": "execute_result"
    }
   ],
   "source": [
    "n = 30_000_000\n",
    "assert(find_nth(test_0, n) == 175594)\n",
    "assert(find_nth(test_1, n) == 2578)\n",
    "assert(find_nth(test_2, n) == 3544142)\n",
    "assert(find_nth(test_3, n) == 261214)\n",
    "assert(find_nth(test_4, n) == 6895259)\n",
    "assert(find_nth(test_5, n) == 18)\n",
    "assert(find_nth(test_6, n) == 362)\n",
    "\n",
    "find_nth(data, n)"
   ]
  }
 ],
 "metadata": {
  "kernelspec": {
   "display_name": "Python 3",
   "language": "python",
   "name": "python3"
  },
  "language_info": {
   "codemirror_mode": {
    "name": "ipython",
    "version": 3
   },
   "file_extension": ".py",
   "mimetype": "text/x-python",
   "name": "python",
   "nbconvert_exporter": "python",
   "pygments_lexer": "ipython3",
   "version": "3.7.4"
  },
  "toc": {
   "base_numbering": 1,
   "nav_menu": {},
   "number_sections": true,
   "sideBar": true,
   "skip_h1_title": false,
   "title_cell": "Table of Contents",
   "title_sidebar": "Contents",
   "toc_cell": false,
   "toc_position": {},
   "toc_section_display": true,
   "toc_window_display": false
  }
 },
 "nbformat": 4,
 "nbformat_minor": 2
}
