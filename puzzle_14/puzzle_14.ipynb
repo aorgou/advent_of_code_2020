{
 "cells": [
  {
   "cell_type": "code",
   "execution_count": 1,
   "metadata": {
    "ExecuteTime": {
     "end_time": "2020-12-14T13:26:11.583135Z",
     "start_time": "2020-12-14T13:26:11.562706Z"
    }
   },
   "outputs": [
    {
     "name": "stdout",
     "output_type": "stream",
     "text": [
      "[['mask', '10011X0100001X1110X0X001000X10X01101'], ['24654', '24859'], ['35770', '6484'], ['61427', '2208764'], ['19310', '16324'], ['14503', '87701421'], ['mask', '001100111X101X1100XX011000X1000X1101'], ['21280', '110690'], ['40788', '3869809'], ['9568', '588']]\n"
     ]
    }
   ],
   "source": [
    "with open('input.txt', \"r\") as file:\n",
    "    data = list(map(lambda x: x.split(' = '),\n",
    "                    file.read().replace('[', ' ').\n",
    "                    replace(']', '').\n",
    "                    replace('mem ', '').\n",
    "                    splitlines()))\n",
    "\n",
    "print(data[0:10])"
   ]
  },
  {
   "cell_type": "markdown",
   "metadata": {
    "ExecuteTime": {
     "end_time": "2020-12-14T12:21:01.383392Z",
     "start_time": "2020-12-14T12:21:01.381379Z"
    }
   },
   "source": [
    "# Part 1"
   ]
  },
  {
   "cell_type": "code",
   "execution_count": 2,
   "metadata": {
    "ExecuteTime": {
     "end_time": "2020-12-14T13:26:11.761762Z",
     "start_time": "2020-12-14T13:26:11.587196Z"
    }
   },
   "outputs": [
    {
     "data": {
      "text/plain": [
       "7440382076205"
      ]
     },
     "execution_count": 2,
     "metadata": {},
     "output_type": "execute_result"
    }
   ],
   "source": [
    "def apply_mask(mask, bin_val):\n",
    "    res = [m if m != 'X' else b for m, b in zip(mask, bin_val)]\n",
    "    return ''.join(res)\n",
    "\n",
    "mems = {}\n",
    "mask = 'X'*36\n",
    "\n",
    "for key, val in data:\n",
    "    if key == 'mask':\n",
    "        mask = val\n",
    "        continue\n",
    "    bin_val = '{0:036b}'.format(int(val))\n",
    "    val_masked = apply_mask(mask, bin_val)\n",
    "    mems[key] = int(val_masked, 2)\n",
    "\n",
    "sum(mems.values())"
   ]
  },
  {
   "cell_type": "markdown",
   "metadata": {},
   "source": [
    "# Part 2"
   ]
  },
  {
   "cell_type": "code",
   "execution_count": 3,
   "metadata": {
    "ExecuteTime": {
     "end_time": "2020-12-14T13:26:11.921450Z",
     "start_time": "2020-12-14T13:26:11.766254Z"
    },
    "code_folding": [
     3
    ]
   },
   "outputs": [
    {
     "data": {
      "text/plain": [
       "4200656704538"
      ]
     },
     "execution_count": 3,
     "metadata": {},
     "output_type": "execute_result"
    }
   ],
   "source": [
    "from itertools import product\n",
    "\n",
    "\n",
    "def apply_mask(mask, bin_address):\n",
    "    res = [b if m == '0' else m for m, b in zip(mask, bin_address)]\n",
    "    return ''.join(res)\n",
    "\n",
    "def write_ival(floating_address, ival, mems):\n",
    "    nX = floating_address.count('X')\n",
    "    for c in product('01', repeat = nX):\n",
    "        fixed_address = floating_address.replace('X', '{}').format(*c)\n",
    "        mems[fixed_address] = ival\n",
    "\n",
    "\n",
    "mems = {}\n",
    "mask = 'X'*36\n",
    "\n",
    "for key, val in data:\n",
    "    if key == 'mask':\n",
    "        mask = val\n",
    "        continue\n",
    "    ival = int(val)\n",
    "    bin_address = '{0:036b}'.format(int(key))\n",
    "    floating_address = apply_mask(mask, bin_address)\n",
    "    write_ival(floating_address, ival, mems)\n",
    "\n",
    "sum(mems.values())"
   ]
  }
 ],
 "metadata": {
  "kernelspec": {
   "display_name": "Python 3",
   "language": "python",
   "name": "python3"
  },
  "language_info": {
   "codemirror_mode": {
    "name": "ipython",
    "version": 3
   },
   "file_extension": ".py",
   "mimetype": "text/x-python",
   "name": "python",
   "nbconvert_exporter": "python",
   "pygments_lexer": "ipython3",
   "version": "3.7.4"
  },
  "toc": {
   "base_numbering": 1,
   "nav_menu": {},
   "number_sections": true,
   "sideBar": true,
   "skip_h1_title": false,
   "title_cell": "Table of Contents",
   "title_sidebar": "Contents",
   "toc_cell": false,
   "toc_position": {},
   "toc_section_display": true,
   "toc_window_display": false
  }
 },
 "nbformat": 4,
 "nbformat_minor": 2
}
