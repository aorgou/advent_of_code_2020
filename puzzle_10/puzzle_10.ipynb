{
 "cells": [
  {
   "cell_type": "code",
   "execution_count": 1,
   "metadata": {
    "ExecuteTime": {
     "end_time": "2020-12-10T07:08:40.236718Z",
     "start_time": "2020-12-10T07:08:40.209318Z"
    }
   },
   "outputs": [
    {
     "name": "stdout",
     "output_type": "stream",
     "text": [
      "['26', '97', '31', '7']\n"
     ]
    }
   ],
   "source": [
    "with open('input.txt', \"r\") as file:\n",
    "    data = file.read()\n",
    "\n",
    "adapters = list(map(int, data.splitlines()))\n",
    "outlet = 0\n",
    "device = max(adapters) + 3\n",
    "adapters = sorted(adapters + [outlet, device])\n",
    "\n",
    "print(data.splitlines()[0:4])"
   ]
  },
  {
   "cell_type": "markdown",
   "metadata": {
    "ExecuteTime": {
     "end_time": "2020-12-10T05:59:45.479886Z",
     "start_time": "2020-12-10T05:59:45.467625Z"
    }
   },
   "source": [
    "# Part 1"
   ]
  },
  {
   "cell_type": "code",
   "execution_count": 2,
   "metadata": {
    "ExecuteTime": {
     "end_time": "2020-12-10T07:08:40.324977Z",
     "start_time": "2020-12-10T07:08:40.239751Z"
    }
   },
   "outputs": [
    {
     "name": "stdout",
     "output_type": "stream",
     "text": [
      "66 29 1914\n"
     ]
    }
   ],
   "source": [
    "d1 = d2 = d3 = 0\n",
    "for lower, upper in zip(adapters[0:-1], adapters[1:]):\n",
    "    if upper - lower == 1:\n",
    "        d1 += 1\n",
    "    if upper - lower == 2:\n",
    "        d2 += 1\n",
    "    if upper - lower == 3:\n",
    "        d3 += 1\n",
    "\n",
    "print (d1, d3, d1*d3)"
   ]
  },
  {
   "cell_type": "markdown",
   "metadata": {
    "ExecuteTime": {
     "end_time": "2020-12-10T06:09:12.950864Z",
     "start_time": "2020-12-10T06:09:12.946416Z"
    }
   },
   "source": [
    "# Part 2"
   ]
  },
  {
   "cell_type": "code",
   "execution_count": 3,
   "metadata": {
    "ExecuteTime": {
     "end_time": "2020-12-10T07:08:40.399005Z",
     "start_time": "2020-12-10T07:08:40.327180Z"
    }
   },
   "outputs": [
    {
     "data": {
      "text/plain": [
       "9256148959232"
      ]
     },
     "execution_count": 3,
     "metadata": {},
     "output_type": "execute_result"
    }
   ],
   "source": [
    "def count_combos(adapters):\n",
    "    # fake extra element with zero options ~ a\n",
    "    adapters = [0] + adapters\n",
    "    a, b, c, d = 0, 1, 1, None\n",
    "    for i in range(3, len(adapters)):\n",
    "        d = 0\n",
    "        for j, prev_count in zip(range(-3,0), [a,b,c]):\n",
    "            if adapters[i] - adapters[i+j] <= 3:\n",
    "                d += prev_count\n",
    "        a,b,c = b,c,d\n",
    "    return d\n",
    "\n",
    "count_combos(adapters)"
   ]
  }
 ],
 "metadata": {
  "kernelspec": {
   "display_name": "Python 3",
   "language": "python",
   "name": "python3"
  },
  "language_info": {
   "codemirror_mode": {
    "name": "ipython",
    "version": 3
   },
   "file_extension": ".py",
   "mimetype": "text/x-python",
   "name": "python",
   "nbconvert_exporter": "python",
   "pygments_lexer": "ipython3",
   "version": "3.7.4"
  },
  "toc": {
   "base_numbering": 1,
   "nav_menu": {},
   "number_sections": true,
   "sideBar": true,
   "skip_h1_title": false,
   "title_cell": "Table of Contents",
   "title_sidebar": "Contents",
   "toc_cell": false,
   "toc_position": {},
   "toc_section_display": true,
   "toc_window_display": false
  }
 },
 "nbformat": 4,
 "nbformat_minor": 2
}
