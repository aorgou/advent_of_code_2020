{
 "cells": [
  {
   "cell_type": "code",
   "execution_count": 1,
   "metadata": {
    "ExecuteTime": {
     "end_time": "2020-12-10T07:14:39.006604Z",
     "start_time": "2020-12-10T07:14:38.989017Z"
    }
   },
   "outputs": [
    {
     "name": "stdout",
     "output_type": "stream",
     "text": [
      "[19, 20, 22, 10]\n"
     ]
    }
   ],
   "source": [
    "with open('input.txt', \"r\") as file:\n",
    "    data = file.read()\n",
    "\n",
    "\n",
    "data = list(map(lambda x: int(x), data.splitlines()))\n",
    "print(data[0:4])"
   ]
  },
  {
   "cell_type": "markdown",
   "metadata": {},
   "source": [
    "# Part 1"
   ]
  },
  {
   "cell_type": "code",
   "execution_count": 2,
   "metadata": {
    "ExecuteTime": {
     "end_time": "2020-12-10T07:14:39.101704Z",
     "start_time": "2020-12-10T07:14:39.012294Z"
    }
   },
   "outputs": [
    {
     "name": "stdout",
     "output_type": "stream",
     "text": [
      "556543474\n"
     ]
    }
   ],
   "source": [
    "def is_sum_of_two(x, preamble):\n",
    "    res = False\n",
    "    for i, p in enumerate(preamble):\n",
    "        q = x - p\n",
    "        if q in preamble[0:i] + preamble[i+1:]:\n",
    "            res = True\n",
    "            break\n",
    "    return res\n",
    "\n",
    "for i, num in enumerate(data[25:]):\n",
    "    preamble = data[0+i:25+i]\n",
    "    if is_sum_of_two(num, preamble):\n",
    "        continue\n",
    "    else:\n",
    "        print(num)\n",
    "        break"
   ]
  },
  {
   "cell_type": "markdown",
   "metadata": {},
   "source": [
    "# Part  2"
   ]
  },
  {
   "cell_type": "code",
   "execution_count": 3,
   "metadata": {
    "ExecuteTime": {
     "end_time": "2020-12-10T07:14:39.201207Z",
     "start_time": "2020-12-10T07:14:39.105753Z"
    }
   },
   "outputs": [
    {
     "name": "stdout",
     "output_type": "stream",
     "text": [
      "76096372\n"
     ]
    }
   ],
   "source": [
    "xsum = 556543474\n",
    "a = b = 0\n",
    "\n",
    "runsum = 0\n",
    "while b < len(data):\n",
    "    while sum(data[a:b]) < xsum:\n",
    "        b += 1\n",
    "    if sum(data[a:b]) != xsum:\n",
    "        a += 1\n",
    "        while sum(data[a:b]) > xsum:\n",
    "            b -= 1\n",
    "    else:\n",
    "        break\n",
    "\n",
    "print(min(data[a:b]) + max(data[a:b]))"
   ]
  }
 ],
 "metadata": {
  "kernelspec": {
   "display_name": "Python 3",
   "language": "python",
   "name": "python3"
  },
  "language_info": {
   "codemirror_mode": {
    "name": "ipython",
    "version": 3
   },
   "file_extension": ".py",
   "mimetype": "text/x-python",
   "name": "python",
   "nbconvert_exporter": "python",
   "pygments_lexer": "ipython3",
   "version": "3.7.4"
  },
  "toc": {
   "base_numbering": 1,
   "nav_menu": {},
   "number_sections": true,
   "sideBar": true,
   "skip_h1_title": false,
   "title_cell": "Table of Contents",
   "title_sidebar": "Contents",
   "toc_cell": false,
   "toc_position": {},
   "toc_section_display": true,
   "toc_window_display": false
  }
 },
 "nbformat": 4,
 "nbformat_minor": 2
}
